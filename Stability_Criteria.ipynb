{
  "nbformat": 4,
  "nbformat_minor": 0,
  "metadata": {
    "colab": {
      "name": "Criterios_Estabilidad.ipynb",
      "provenance": [],
      "collapsed_sections": [
        "tWkAnqLMhqWg",
        "8OfifM_7h2Fa",
        "oRn1eO8Z22Tm",
        "f_n7bRAj2L2J",
        "jCoA2hI0Y2Za",
        "hWgq8wZnksyU",
        "pnZqn0c5lD2S",
        "-q4dWzxDk1mG",
        "lOtL0WPSF7WO",
        "UMEskV1AalUR",
        "_SkeqZHJ19kD",
        "kQPa0r21UDM5"
      ]
    },
    "kernelspec": {
      "display_name": "Python 3",
      "name": "python3"
    },
    "language_info": {
      "name": "python"
    }
  },
  "cells": [
    {
      "cell_type": "code",
      "metadata": {
        "id": "6-8OB-znPsn4"
      },
      "source": [
        "import numpy as np\n",
        "import scipy as sc\n",
        "import matplotlib.pyplot as plt\n",
        "import random\n",
        "from scipy.integrate import quad\n"
      ],
      "execution_count": null,
      "outputs": []
    },
    {
      "cell_type": "markdown",
      "metadata": {
        "id": "Lzr3gV5nYui8"
      },
      "source": [
        "Antes de nada, definimos una función para crear un archivo, la vamos a usar mucho."
      ]
    },
    {
      "cell_type": "code",
      "metadata": {
        "id": "Gv8ZrC9GYs-T"
      },
      "source": [
        "def crearArchivo(fichero):\n",
        "  file = open(fichero, 'w', encoding='utf8')\n",
        "  file.close()"
      ],
      "execution_count": null,
      "outputs": []
    },
    {
      "cell_type": "markdown",
      "metadata": {
        "id": "5OwbFMGu1LdK"
      },
      "source": [
        "# Introducción"
      ]
    },
    {
      "cell_type": "markdown",
      "metadata": {
        "id": "tWkAnqLMhqWg"
      },
      "source": [
        "### Ecosistema aleatorio"
      ]
    },
    {
      "cell_type": "code",
      "metadata": {
        "id": "52fcsb0VP0P6"
      },
      "source": [
        "def GenerarM(S, d, C, media, sigma):\n",
        "  a = media - np.sqrt(3.0)*sigma\n",
        "  b = media + np.sqrt(3.0)*sigma\n",
        "  M = a*np.random.rand(S, S) + b*np.random.rand(S, S)\n",
        "  for i in range(S):\n",
        "    for j in range(S):\n",
        "      num = np.random.rand()\n",
        "      if(i != j):\n",
        "        if(num > C):\n",
        "         M[i, j]=0.0\n",
        "      else:\n",
        "        M[i, j] = d\n",
        "  \n",
        "  return M"
      ],
      "execution_count": null,
      "outputs": []
    },
    {
      "cell_type": "code",
      "metadata": {
        "id": "bNOBeYbzKgcZ"
      },
      "source": [
        "# Empezamos creando la funcion que genere una matriz aleatoria con una gaussiana, la anterior que hemos hecho\n",
        "# ha sido con una distribucion uniforme\n",
        "def GenerarMRandomGauss(S, d, C, media, sigma):\n",
        "  M = np.random.normal(loc = media, scale=sigma, size = (S, S))\n",
        "  for i in range(S):\n",
        "    for j in range(S):\n",
        "      num = np.random.rand()\n",
        "      if(i != j):\n",
        "        if(num > C):\n",
        "         M[i, j]=0.0\n",
        "      else:\n",
        "        M[i, j] = d\n",
        "  \n",
        "  return M"
      ],
      "execution_count": null,
      "outputs": []
    },
    {
      "cell_type": "markdown",
      "metadata": {
        "id": "Ep9uUd0KKh_v"
      },
      "source": [
        "Vamos a sacar 10 matrices para una red random, con los parámetros: \n",
        "\n",
        "\\begin{equation}\n",
        "  \\begin{split}\n",
        "    &\\mu = 0\\\\\n",
        "    &\\sigma = 1\\\\\n",
        "    &C = 0.25\\\\\n",
        "    &S = 250\\\\**texto en negrita**\n",
        "  \\end{split}\n",
        "\\end{equation}"
      ]
    },
    {
      "cell_type": "code",
      "metadata": {
        "id": "TPHEcxKTKhvP"
      },
      "source": [
        "for i in range(10):\n",
        "  crearArchivo('M'+str(i)+'.dat')\n",
        "  file = open('M' + str(i) + '.dat', 'w', encoding = 'utf8')\n",
        "  M = GenerarMRandomGauss(250, -1.0, 0.25, 0.0, 1.0)\n",
        "  autovalores, autovectores = np.linalg.eig(M)\n",
        "  for j in range(250):\n",
        "    file.write(str(np.real(autovalores[j])) + ' ' + str(np.imag(autovalores[j])) + '\\n')\n",
        "  file.close()"
      ],
      "execution_count": null,
      "outputs": []
    },
    {
      "cell_type": "code",
      "metadata": {
        "id": "_hYsW8G-W7Ui",
        "colab": {
          "base_uri": "https://localhost:8080/",
          "height": 317
        },
        "outputId": "20df8a11-d8e3-4e11-fe96-773af1546bd3"
      },
      "source": [
        "# Generamos la matriz comunidad con S = 100, d = -1.0, C = 0.2, media 0 y sigma 1\n",
        "S = 500\n",
        "M = GenerarM(S, -1.0, 0.2, 0.0, 1.0)\n",
        "\n",
        "# Sacamos los autovalores\n",
        "autovalores, autovectores = np.linalg.eig(M)\n",
        "\n",
        "# Sacamos la parte real y la iamginaria\n",
        "real = np.zeros_like(autovalores)\n",
        "imag = np.zeros_like(autovalores)\n",
        "for i in range(S):\n",
        "  real[i] = np.real(autovalores[i])\n",
        "  imag[i] = np.imag(autovalores[i])\n",
        "\n",
        "plt.plot(real, imag, 'bo')\n"
      ],
      "execution_count": null,
      "outputs": [
        {
          "output_type": "stream",
          "text": [
            "/usr/local/lib/python3.7/dist-packages/numpy/core/_asarray.py:83: ComplexWarning: Casting complex values to real discards the imaginary part\n",
            "  return array(a, dtype, copy=False, order=order)\n"
          ],
          "name": "stderr"
        },
        {
          "output_type": "execute_result",
          "data": {
            "text/plain": [
              "[<matplotlib.lines.Line2D at 0x7f93ac0a4810>]"
            ]
          },
          "metadata": {
            "tags": []
          },
          "execution_count": 7
        },
        {
          "output_type": "display_data",
          "data": {
            "image/png": "[encoded data removed]",
            "text/plain": [
              "<Figure size 432x288 with 1 Axes>"
            ]
          },
          "metadata": {
            "tags": [],
            "needs_background": "light"
          }
        }
      ]
    },
    {
      "cell_type": "markdown",
      "metadata": {
        "id": "pgTOfMuAaKPd"
      },
      "source": [
        "Hemos sacado los autovalores de la matriz comunidad a partir de la distribucion uniforme, pero se puede hacer con otra distribucion y saldria lo mismo"
      ]
    },
    {
      "cell_type": "markdown",
      "metadata": {
        "id": "8OfifM_7h2Fa"
      },
      "source": [
        "### Red predador-presa"
      ]
    },
    {
      "cell_type": "markdown",
      "metadata": {
        "id": "xk2Di7HdiF_9"
      },
      "source": [
        "En esta red, tenemos que generar la matriz de la siguiente manera, fijamos los elementos de la diagonal a -d, como antes; con probabilidad C, el elemento $M_{ij}$ sale de una distribucion de media 0 (de momento) y sigma, mientras que el elemento $M_{ji}$ será de signo opuesto al otro; y con probabillidad 1-C de ser los dos 0."
      ]
    },
    {
      "cell_type": "code",
      "metadata": {
        "id": "DztHrEltXQtc"
      },
      "source": [
        "def GenerarPredadorPresa(S, d, C, media, sigma):\n",
        "  # En este caso, la distribucion de probabilidad es la uniforme\n",
        "  a = media - np.sqrt(3.0)*sigma\n",
        "  b = media + np.sqrt(3.0)*sigma\n",
        "  M = a*np.random.rand(S, S) + b*np.random.rand(S, S)\n",
        "  for i in range(S):\n",
        "    for j in range(S):\n",
        "      num = np.random.rand()\n",
        "      if(i != j):\n",
        "        if(num > C):\n",
        "         M[i, j] = 0.0\n",
        "         M[j, i] = 0.0\n",
        "        else:\n",
        "          if(M[i, j]*M[j, i] > 0):\n",
        "            M[i, j] = (-1.0)*M[i, j]\n",
        "      else:\n",
        "        M[i, j] = d\n",
        "  \n",
        "  return M"
      ],
      "execution_count": null,
      "outputs": []
    },
    {
      "cell_type": "code",
      "metadata": {
        "id": "LgneoJ9DMNF0"
      },
      "source": [
        "def GenerarPredadorPresaGauss(S, d, C, media, sigma):\n",
        "  # En este caso, la distribucion de probabilidad es la uniforme\n",
        "  \n",
        "  M = np.random.normal(loc = media, scale = sigma, size = (S, S))\n",
        "  for i in range(S):\n",
        "    for j in range(S):\n",
        "      num = np.random.rand()\n",
        "      if(i != j):\n",
        "        if(num > C):\n",
        "         M[i, j] = 0.0\n",
        "         M[j, i] = 0.0\n",
        "        else:\n",
        "          if(M[i, j]*M[j, i] > 0):\n",
        "            M[i, j] = (-1.0)*M[i, j]\n",
        "      else:\n",
        "        M[i, j] = d\n",
        "  \n",
        "  return M"
      ],
      "execution_count": null,
      "outputs": []
    },
    {
      "cell_type": "code",
      "metadata": {
        "id": "2ggUMWonMcxQ"
      },
      "source": [
        "for i in range(10):\n",
        "  crearArchivo('M'+str(i)+'.dat')\n",
        "  file = open('M' + str(i) + '.dat', 'w', encoding = 'utf8')\n",
        "  M = GenerarMRandomGauss(250, -1.0, 0.25, 0.0, 1.0)\n",
        "  autovalores, autovectores = np.linalg.eig(M)\n",
        "  for j in range(250):\n",
        "    file.write(str(np.real(autovalores[j])) + ' ' + str(np.imag(autovalores[j])) + '\\n')\n",
        "  file.close()"
      ],
      "execution_count": null,
      "outputs": []
    },
    {
      "cell_type": "code",
      "metadata": {
        "id": "zaYOjiJ8kH_R",
        "colab": {
          "base_uri": "https://localhost:8080/",
          "height": 237
        },
        "outputId": "7de2c65b-c9b0-4032-c901-47c6222dc01f"
      },
      "source": [
        "M = GenerarPredadorPresa(S, -1.0, 0.2, 0.0, 1.0)\n",
        "# Sacamos los autovalores\n",
        "autovalores, autovectores = np.linalg.eig(M)\n",
        "\n",
        "# Sacamos la parte real y la iamginaria\n",
        "real = np.zeros_like(autovalores)\n",
        "imag = np.zeros_like(autovalores)\n",
        "for i in range(S):\n",
        "  real[i] = np.real(autovalores[i])\n",
        "  imag[i] = np.imag(autovalores[i])\n",
        "\n",
        "plt.plot(real, imag, 'bo')"
      ],
      "execution_count": null,
      "outputs": [
        {
          "output_type": "error",
          "ename": "NameError",
          "evalue": "ignored",
          "traceback": [
            "\u001b[0;31m---------------------------------------------------------------------------\u001b[0m",
            "\u001b[0;31mNameError\u001b[0m                                 Traceback (most recent call last)",
            "\u001b[0;32m<ipython-input-6-3e99178a220d>\u001b[0m in \u001b[0;36m<module>\u001b[0;34m()\u001b[0m\n\u001b[0;32m----> 1\u001b[0;31m \u001b[0mM\u001b[0m \u001b[0;34m=\u001b[0m \u001b[0mGenerarPredadorPresa\u001b[0m\u001b[0;34m(\u001b[0m\u001b[0mS\u001b[0m\u001b[0;34m,\u001b[0m \u001b[0;34m-\u001b[0m\u001b[0;36m1.0\u001b[0m\u001b[0;34m,\u001b[0m \u001b[0;36m0.2\u001b[0m\u001b[0;34m,\u001b[0m \u001b[0;36m0.0\u001b[0m\u001b[0;34m,\u001b[0m \u001b[0;36m1.0\u001b[0m\u001b[0;34m)\u001b[0m\u001b[0;34m\u001b[0m\u001b[0;34m\u001b[0m\u001b[0m\n\u001b[0m\u001b[1;32m      2\u001b[0m \u001b[0;31m# Sacamos los autovalores\u001b[0m\u001b[0;34m\u001b[0m\u001b[0;34m\u001b[0m\u001b[0;34m\u001b[0m\u001b[0m\n\u001b[1;32m      3\u001b[0m \u001b[0mautovalores\u001b[0m\u001b[0;34m,\u001b[0m \u001b[0mautovectores\u001b[0m \u001b[0;34m=\u001b[0m \u001b[0mnp\u001b[0m\u001b[0;34m.\u001b[0m\u001b[0mlinalg\u001b[0m\u001b[0;34m.\u001b[0m\u001b[0meig\u001b[0m\u001b[0;34m(\u001b[0m\u001b[0mM\u001b[0m\u001b[0;34m)\u001b[0m\u001b[0;34m\u001b[0m\u001b[0;34m\u001b[0m\u001b[0m\n\u001b[1;32m      4\u001b[0m \u001b[0;34m\u001b[0m\u001b[0m\n\u001b[1;32m      5\u001b[0m \u001b[0;31m# Sacamos la parte real y la iamginaria\u001b[0m\u001b[0;34m\u001b[0m\u001b[0;34m\u001b[0m\u001b[0;34m\u001b[0m\u001b[0m\n",
            "\u001b[0;31mNameError\u001b[0m: name 'S' is not defined"
          ]
        }
      ]
    },
    {
      "cell_type": "markdown",
      "metadata": {
        "id": "oRn1eO8Z22Tm"
      },
      "source": [
        "### Red predador presa con el modelo cascada"
      ]
    },
    {
      "cell_type": "code",
      "metadata": {
        "id": "6YZCYyYG4Jba"
      },
      "source": [
        "# Vamos a hacer la tercera funcion para generar una red predador presa con el modelo de cascada:\n",
        "def GenerarPredadorPresaCascade(S, d, C, media, sigma):\n",
        "  M = np.random.normal(loc = media, scale = sigma, size = (S, S))\n",
        "  for i in range(S):\n",
        "    j = 0\n",
        "    if(j>i):\n",
        "      M[i, j] = 0.0\n",
        "    else:\n",
        "        num = np.random.rand()\n",
        "        if(num > C):\n",
        "          M[i, j], M[j, i] = 0.0, 0.0\n",
        "        else:\n",
        "          M[i, j] = np.abs(M[i, j])\n",
        "          M[j, i] = -np.abs(M[j, i])\n",
        "    j += 1\n",
        "  for i in range(S):\n",
        "    M[i, i] = d\n",
        "  return M"
      ],
      "execution_count": null,
      "outputs": []
    },
    {
      "cell_type": "code",
      "metadata": {
        "id": "RpDYPIVD2-Ai",
        "colab": {
          "base_uri": "https://localhost:8080/",
          "height": 337
        },
        "outputId": "2054faef-efd8-43e1-b1e9-d82564696f3e"
      },
      "source": [
        "M = GenerarPredadorPresaCascade(S, -1.0, 0.2, 0.0, 1.0)\n",
        "# Sacamos los autovalores\n",
        "autovalores, autovectores = np.linalg.eig(M)\n",
        "\n",
        "# Sacamos la parte real y la iamginaria\n",
        "real = np.zeros_like(autovalores)\n",
        "imag = np.zeros_like(autovalores)\n",
        "for i in range(S):\n",
        "  real[i] = np.real(autovalores[i])\n",
        "  imag[i] = np.imag(autovalores[i])\n",
        "\n",
        "plt.plot(real, imag, 'bo')"
      ],
      "execution_count": null,
      "outputs": [
        {
          "output_type": "stream",
          "text": [
            "/usr/local/lib/python3.7/dist-packages/numpy/core/_asarray.py:83: ComplexWarning: Casting complex values to real discards the imaginary part\n",
            "  return array(a, dtype, copy=False, order=order)\n"
          ],
          "name": "stderr"
        },
        {
          "output_type": "execute_result",
          "data": {
            "text/plain": [
              "[<matplotlib.lines.Line2D at 0x7fe94fff6f50>]"
            ]
          },
          "metadata": {
            "tags": []
          },
          "execution_count": 9
        },
        {
          "output_type": "display_data",
          "data": {
            "image/png": "[encoded data removed]",
            "text/plain": [
              "<Figure size 432x288 with 1 Axes>"
            ]
          },
          "metadata": {
            "tags": [],
            "needs_background": "light"
          }
        }
      ]
    },
    {
      "cell_type": "markdown",
      "metadata": {
        "id": "f_n7bRAj2L2J"
      },
      "source": [
        "### Competición"
      ]
    },
    {
      "cell_type": "code",
      "metadata": {
        "id": "fbMxfcDc2Ph-"
      },
      "source": [
        "# Empezamos sacando la función con la cual generar las redes competitivas\n",
        "# Antes, definimos a función que genera una red de mutualismo combinada con competición.\n",
        "def GenerarCompeticionGauss(S, d, C, media, sigma):\n",
        "  # En este caso, la distribucion de probabilidad es la uniforme\n",
        "  M = np.random.normal(loc = media, scale = sigma, size = (S, S))\n",
        "  for i in range(S):\n",
        "    for j in range(S):\n",
        "      num = np.random.rand()\n",
        "      if(i != j):\n",
        "        if(num > C):\n",
        "         M[i, j] = 0.0\n",
        "         M[j, i] = 0.0\n",
        "        else:\n",
        "          if(M[i, j] > 0):\n",
        "            M[i, j] = (-1.0)*M[i, j]\n",
        "          if(M[j, i] > 0):\n",
        "            M[j, i] = -1.0*M[j, i]\n",
        "      else:\n",
        "        M[i, j] = d\n",
        "  \n",
        "  return M"
      ],
      "execution_count": null,
      "outputs": []
    },
    {
      "cell_type": "code",
      "metadata": {
        "colab": {
          "base_uri": "https://localhost:8080/",
          "height": 320
        },
        "id": "wZYdr4PSZAw1",
        "outputId": "63da8942-e6dd-45b4-aa75-80a730e7c6c2"
      },
      "source": [
        "S = 250\n",
        "M = GenerarCompeticionGauss(S, -1.0, 0.5, 0.0, 1.0)\n",
        "# Sacamos los autovalores\n",
        "autovalores, autovectores = np.linalg.eig(M)\n",
        "\n",
        "# Sacamos la parte real y la iamginaria\n",
        "real = np.zeros_like(autovalores)\n",
        "imag = np.zeros_like(autovalores)\n",
        "for i in range(S):\n",
        "  real[i] = np.real(autovalores[i])\n",
        "  imag[i] = np.imag(autovalores[i])\n",
        "\n",
        "plt.plot(real, imag, 'bo')\n",
        "crearArchivo('Circular_Law_Competicion.dat')\n",
        "file = open('Circular_Law_Competicion.dat', 'w', encoding = 'utf8')\n",
        "for i in range(S):\n",
        "  file.write(str(np.real(autovalores[i])) + ' ' + str(np.imag(autovalores[i])) + ' ' + '\\n')\n",
        "file.close()"
      ],
      "execution_count": null,
      "outputs": [
        {
          "output_type": "stream",
          "text": [
            "/usr/local/lib/python3.7/dist-packages/numpy/core/_asarray.py:83: ComplexWarning: Casting complex values to real discards the imaginary part\n",
            "  return array(a, dtype, copy=False, order=order)\n"
          ],
          "name": "stderr"
        },
        {
          "output_type": "display_data",
          "data": {
            "image/png": "[encoded data removed]",
            "text/plain": [
              "<Figure size 432x288 with 1 Axes>"
            ]
          },
          "metadata": {
            "tags": [],
            "needs_background": "light"
          }
        }
      ]
    },
    {
      "cell_type": "markdown",
      "metadata": {
        "id": "jCoA2hI0Y2Za"
      },
      "source": [
        "### Red predador-presa con el modelo de nicho"
      ]
    },
    {
      "cell_type": "code",
      "metadata": {
        "id": "undrCPAeY7rS"
      },
      "source": [
        "# Empezamos obteniendo una función que genere redes predador-presa con el modelo de nicho\n",
        "def GenerarPredadorPresaNicho(S, d, C, media, sigma):\n",
        "  # Empezamos sacando la matriz de adyacencia, A, en la cual Aij es 1 si i es presa de j\n",
        "\n",
        "  A = np.zeros((S, S))\n",
        "  for i in range(S):\n",
        "    for j in range(S):\n",
        "      num = np.random.rand()\n",
        "      if(num < C):\n",
        "        A[i, j] = 1.0\n",
        "\n",
        "  # Sacamos la matriz P\n",
        "  P = -A + A.T\n",
        "\n",
        "  # Sacamos la matriz Y de una distribucion normal N(0, sigma), pero con elementos solo positivos\n",
        "  Y = np.random.normal(loc = media, scale = sigma, size = (S, S))\n",
        "  for i in range(S):\n",
        "    for j in range(S):\n",
        "      if(Y[i, j] < 0.0):\n",
        "        Y[i, j] = -1.0*Y[i, j]\n",
        "  \n",
        "  # Ahora, podemos construir la matriz comunidad\n",
        "  M = np.dot(Y, P)\n",
        "  for i in range(S):\n",
        "    M[i, i] = d\n",
        "\n",
        "  return M\n",
        "  "
      ],
      "execution_count": null,
      "outputs": []
    },
    {
      "cell_type": "markdown",
      "metadata": {
        "id": "hWgq8wZnksyU"
      },
      "source": [
        "### Mixture entre mutualismo y competición"
      ]
    },
    {
      "cell_type": "markdown",
      "metadata": {
        "id": "7k_T3oYXmNme"
      },
      "source": [
        "Aquí es lo mismo que antes, pero $M_{ij}$ y  $M_{ji}$ tienen el mismo signo, será un mix porque pueden tener ambos signo negativo(competición) o signo positivo(mutualismo)"
      ]
    },
    {
      "cell_type": "code",
      "metadata": {
        "id": "mc-TylP_kjgg"
      },
      "source": [
        "def GenerarMixture(S, d, C, media, sigma):\n",
        "  # En este caso, la distribucion de probabilidad es la uniforme\n",
        "  a = media - np.sqrt(3.0)*sigma\n",
        "  b = media + np.sqrt(3.0)*sigma\n",
        "  M = a*np.random.rand(S, S) + b*np.random.rand(S, S)\n",
        "  for i in range(S):\n",
        "    for j in range(S):\n",
        "      num = np.random.rand()\n",
        "      if(i != j):\n",
        "        if(num > C):\n",
        "         M[i, j] = 0.0\n",
        "         M[j, i] = 0.0\n",
        "        else:\n",
        "          if(M[i, j]*M[j, i] < 0):\n",
        "            M[i, j] = (-1.0)*M[i, j]\n",
        "      else:\n",
        "        M[i, j] = d\n",
        "  \n",
        "  return M"
      ],
      "execution_count": null,
      "outputs": []
    },
    {
      "cell_type": "code",
      "metadata": {
        "id": "QEVDsv0YARlu"
      },
      "source": [
        "def GenerarMixtureGauss(S, d, C, media, sigma):\n",
        "  # En este caso, la distribucion de probabilidad es la uniforme\n",
        "  M = np.random.normal(loc = media, scale = sigma, size = (S, S))\n",
        "  for i in range(S):\n",
        "    for j in range(S):\n",
        "      num = np.random.rand()\n",
        "      if(i != j):\n",
        "        if(num > C):\n",
        "         M[i, j] = 0.0\n",
        "         M[j, i] = 0.0\n",
        "        else:\n",
        "          if(M[i, j]*M[j, i] < 0):\n",
        "            M[i, j] = (-1.0)*M[i, j]\n",
        "      else:\n",
        "        M[i, j] = d\n",
        "  \n",
        "  return M"
      ],
      "execution_count": null,
      "outputs": []
    },
    {
      "cell_type": "markdown",
      "metadata": {
        "id": "com7E5BAAbtW"
      },
      "source": [
        "Vamos a sacar 10 matrices para una red mixta entre mutualismo y competición, con los parámetros: \n",
        "\n",
        "\\begin{equation}\n",
        "  \\begin{split}\n",
        "    &\\mu = 0\\\\\n",
        "    &\\sigma = 1\\\\\n",
        "    &C = 0.25\\\\\n",
        "    &S = 250\\\\**texto en negrita**\n",
        "  \\end{split}\n",
        "\\end{equation}"
      ]
    },
    {
      "cell_type": "code",
      "metadata": {
        "id": "lW0aF-S2BQI-"
      },
      "source": [
        "for i in range(10):\n",
        "  crearArchivo('M'+str(i)+'.dat')\n",
        "  file = open('M' + str(i) + '.dat', 'w', encoding = 'utf8')\n",
        "  M = GenerarMixtureGauss(250, -1.0, 0.25, 0.0, 1.0)\n",
        "  autovalores, autovectores = np.linalg.eig(M)\n",
        "  for j in range(250):\n",
        "    file.write(str(np.real(autovalores[j])) + ' ' + str(np.imag(autovalores[j])) + '\\n')\n",
        "  file.close()"
      ],
      "execution_count": null,
      "outputs": []
    },
    {
      "cell_type": "code",
      "metadata": {
        "id": "F-4Dx6HbAZmn"
      },
      "source": [
        ""
      ],
      "execution_count": null,
      "outputs": []
    },
    {
      "cell_type": "markdown",
      "metadata": {
        "id": "tBSr8rDP7lTu"
      },
      "source": [
        ""
      ]
    },
    {
      "cell_type": "code",
      "metadata": {
        "id": "XKs6WhV1oF7Z",
        "colab": {
          "base_uri": "https://localhost:8080/",
          "height": 317
        },
        "outputId": "64bad6d2-589e-4fd8-fcee-a6ed8960e2a0"
      },
      "source": [
        "M = GenerarMixture(S, -1.0, 0.2, 0.0, 1.0)\n",
        "# Sacamos los autovalores\n",
        "autovalores, autovectores = np.linalg.eig(M)\n",
        "\n",
        "# Sacamos la parte real y la iamginaria\n",
        "real = np.zeros_like(autovalores)\n",
        "imag = np.zeros_like(autovalores)\n",
        "for i in range(S):\n",
        "  real[i] = np.real(autovalores[i])\n",
        "  imag[i] = np.imag(autovalores[i])\n",
        "\n",
        "plt.plot(real, imag, 'bo')"
      ],
      "execution_count": null,
      "outputs": [
        {
          "output_type": "stream",
          "text": [
            "/usr/local/lib/python3.7/dist-packages/numpy/core/_asarray.py:83: ComplexWarning: Casting complex values to real discards the imaginary part\n",
            "  return array(a, dtype, copy=False, order=order)\n"
          ],
          "name": "stderr"
        },
        {
          "output_type": "execute_result",
          "data": {
            "text/plain": [
              "[<matplotlib.lines.Line2D at 0x7f93ac023450>]"
            ]
          },
          "metadata": {
            "tags": []
          },
          "execution_count": 9
        },
        {
          "output_type": "display_data",
          "data": {
            "image/png": "[encoded data removed]",
            "text/plain": [
              "<Figure size 432x288 with 1 Axes>"
            ]
          },
          "metadata": {
            "tags": [],
            "needs_background": "light"
          }
        }
      ]
    },
    {
      "cell_type": "markdown",
      "metadata": {
        "id": "pnZqn0c5lD2S"
      },
      "source": [
        "### Mutualismo"
      ]
    },
    {
      "cell_type": "code",
      "metadata": {
        "id": "3eBrCM5vlGCX"
      },
      "source": [
        "# Antes, definimos a función que genera una red de mutualismo combinada con competición.\n",
        "def GenerarMutuaGauss(S, d, C, media, sigma):\n",
        "  # En este caso, la distribucion de probabilidad es la uniforme\n",
        "  M = np.random.normal(loc = media, scale = sigma, size = (S, S))\n",
        "  for i in range(S):\n",
        "    for j in range(S):\n",
        "      num = np.random.rand()\n",
        "      if(i != j):\n",
        "        if(num > C):\n",
        "         M[i, j] = 0.0\n",
        "         M[j, i] = 0.0\n",
        "        else:\n",
        "          if(M[i, j] < 0):\n",
        "            M[i, j] = (-1.0)*M[i, j]\n",
        "          if(M[j, i] < 0):\n",
        "            M[j, i] = -1.0*M[j, i]\n",
        "      else:\n",
        "        M[i, j] = d\n",
        "  \n",
        "  return M"
      ],
      "execution_count": null,
      "outputs": []
    },
    {
      "cell_type": "code",
      "metadata": {
        "colab": {
          "base_uri": "https://localhost:8080/",
          "height": 300
        },
        "id": "ZFoaWUYlZWLi",
        "outputId": "3fa69fac-13f7-46f0-bf77-cedc62855797"
      },
      "source": [
        "S = 250\n",
        "M = GenerarMutuaGauss(S, -1.0, 0.5, 0.0, 1.0)\n",
        "# Sacamos los autovalores\n",
        "autovalores, autovectores = np.linalg.eig(M)\n",
        "\n",
        "# Sacamos la parte real y la iamginaria\n",
        "real = np.zeros_like(autovalores)\n",
        "imag = np.zeros_like(autovalores)\n",
        "for i in range(S):\n",
        "  real[i] = np.real(autovalores[i])\n",
        "  imag[i] = np.imag(autovalores[i])\n",
        "\n",
        "plt.plot(real, imag, 'bo')\n",
        "\n",
        "crearArchivo('Circular_Law_Mutualismo.dat')\n",
        "file = open('Circular_Law_Mutualismo.dat', 'w', encoding = 'utf8')\n",
        "for i in range(S):\n",
        "  file.write(str(np.real(autovalores[i])) + ' ' + str(np.imag(autovalores[i])) + ' ' + '\\n')\n",
        "file.close()"
      ],
      "execution_count": null,
      "outputs": [
        {
          "output_type": "stream",
          "text": [
            "/usr/local/lib/python3.7/dist-packages/numpy/core/_asarray.py:83: ComplexWarning: Casting complex values to real discards the imaginary part\n",
            "  return array(a, dtype, copy=False, order=order)\n"
          ],
          "name": "stderr"
        },
        {
          "output_type": "display_data",
          "data": {
            "image/png": "[encoded data removed]",
            "text/plain": [
              "<Figure size 432x288 with 1 Axes>"
            ]
          },
          "metadata": {
            "tags": [],
            "needs_background": "light"
          }
        }
      ]
    },
    {
      "cell_type": "markdown",
      "metadata": {
        "id": "-q4dWzxDk1mG"
      },
      "source": [
        "### Mutualismo bipartito"
      ]
    },
    {
      "cell_type": "code",
      "metadata": {
        "id": "v4Lbni54k5fT"
      },
      "source": [
        "# Antes, definimos a función que genera una red de mutualismo combinada con competición.\n",
        "def GenerarMutuaBi(S, d, C, media, sigma):\n",
        "  # En este caso, la distribucion de probabilidad es la uniforme\n",
        "  M = np.random.normal(loc = media, scale = sigma, size = (S, S))\n",
        "  C_nueva = (2.0*C*(S-1))/S\n",
        "  for i in range(S):\n",
        "    for j in range(S):\n",
        "      num = np.random.rand()\n",
        "      if(i != j):\n",
        "        if(num > C_nueva):\n",
        "         M[i, j] = 0.0\n",
        "         M[j, i] = 0.0\n",
        "        else:\n",
        "          if(M[i, j] < 0):\n",
        "            M[i, j] = (-1.0)*M[i, j]\n",
        "          if(M[j, i] < 0):\n",
        "            M[j, i] = -1.0*M[j, i]\n",
        "      else:\n",
        "        M[i, j] = d\n",
        "  \n",
        "  return M"
      ],
      "execution_count": null,
      "outputs": []
    },
    {
      "cell_type": "code",
      "metadata": {
        "colab": {
          "base_uri": "https://localhost:8080/",
          "height": 301
        },
        "id": "JHpRL4r-7AoO",
        "outputId": "86038c2d-f827-443c-b4f4-88d8b7484e94"
      },
      "source": [
        "S = 250\n",
        "M = GenerarMutuaBi(S, -1.0, 0.5, 0.0, 1.0)\n",
        "# Sacamos los autovalores\n",
        "autovalores, autovectores = np.linalg.eig(M)\n",
        "\n",
        "# Sacamos la parte real y la iamginaria\n",
        "real = np.zeros_like(autovalores)\n",
        "imag = np.zeros_like(autovalores)\n",
        "for i in range(S):\n",
        "  real[i] = np.real(autovalores[i])\n",
        "  imag[i] = np.imag(autovalores[i])\n",
        "\n",
        "plt.plot(real, imag, 'bo')\n",
        "\n",
        "crearArchivo('Circular_Law_Mutualismo_Bi.dat')\n",
        "file = open('Circular_Law_Mutualismo_Bi.dat', 'w', encoding = 'utf8')\n",
        "for i in range(S):\n",
        "  file.write(str(np.real(autovalores[i])) + ' ' + str(np.imag(autovalores[i])) + ' ' + '\\n')\n",
        "file.close()"
      ],
      "execution_count": null,
      "outputs": [
        {
          "output_type": "stream",
          "text": [
            "/usr/local/lib/python3.7/dist-packages/numpy/core/_asarray.py:83: ComplexWarning: Casting complex values to real discards the imaginary part\n",
            "  return array(a, dtype, copy=False, order=order)\n"
          ],
          "name": "stderr"
        },
        {
          "output_type": "display_data",
          "data": {
            "image/png": "[encoded data removed]",
            "text/plain": [
              "<Figure size 432x288 with 1 Axes>"
            ]
          },
          "metadata": {
            "tags": [],
            "needs_background": "light"
          }
        }
      ]
    },
    {
      "cell_type": "markdown",
      "metadata": {
        "id": "N56dcjoKF0py"
      },
      "source": [
        "# Cálculo de la probabilidad de estabilidad"
      ]
    },
    {
      "cell_type": "markdown",
      "metadata": {
        "id": "lOtL0WPSF7WO"
      },
      "source": [
        "## Para un ecosistema random generado por gaussiana"
      ]
    },
    {
      "cell_type": "markdown",
      "metadata": {
        "id": "irkd8RFB7mUv"
      },
      "source": [
        "Ahora, vamos a calcular la probabilidad de estabilidad de una red aleatoria, para eso vamos a generar, para cada valor de la complejidad, 1000 matrices, con d = -1, S = 250, C = 0.5, y que los elementos no diagonales salgan de una gaussiana(en principio) de media 0 y una cierta sigma, iremos variando sigma, habrá que sacar todos los autovalores de cada matriz y ver si son estables, y se calcula la probabilidad de estabilidad.\n",
        "\n",
        "Empezamos con sigma = 0.05, y vamos variando un paso = 0.0025, hasta 0.13, que son unos 32 puntos."
      ]
    },
    {
      "cell_type": "code",
      "metadata": {
        "id": "SX2tvfEloPg7",
        "colab": {
          "base_uri": "https://localhost:8080/"
        },
        "outputId": "3f9288ca-8f2f-4770-cf72-9854aea7eb26"
      },
      "source": [
        "M = np.random.normal(loc = 0, scale = 1.0, size=(3,3))\n",
        "M"
      ],
      "execution_count": null,
      "outputs": [
        {
          "output_type": "execute_result",
          "data": {
            "text/plain": [
              "array([[-0.54980411,  0.27322503, -1.1444578 ],\n",
              "       [ 1.58607345,  0.66851644, -0.46179017],\n",
              "       [ 0.27397637,  1.30447964,  0.50804564]])"
            ]
          },
          "metadata": {
            "tags": []
          },
          "execution_count": 8
        }
      ]
    },
    {
      "cell_type": "code",
      "metadata": {
        "id": "KZjI3N1K98gR"
      },
      "source": [
        "# Empezamos creando la funcion que genere una matriz aleatoria con una gaussiana, la anterior que hemos hecho\n",
        "# ha sido con una distribucion uniforme\n",
        "def GenerarMRandomGauss(S, d, C, media, sigma):\n",
        "  M = np.random.normal(loc = media, scale=sigma, size = (S, S))\n",
        "  for i in range(S):\n",
        "    for j in range(S):\n",
        "      num = np.random.rand()\n",
        "      if(i != j):\n",
        "        if(num > C):\n",
        "         M[i, j]=0.0\n",
        "      else:\n",
        "        M[i, j] = d\n",
        "  \n",
        "  return M"
      ],
      "execution_count": null,
      "outputs": []
    },
    {
      "cell_type": "code",
      "metadata": {
        "id": "tF0bkOu4KXDV"
      },
      "source": [
        ""
      ],
      "execution_count": null,
      "outputs": []
    },
    {
      "cell_type": "code",
      "metadata": {
        "id": "X5wiPhPe-qwl",
        "colab": {
          "base_uri": "https://localhost:8080/",
          "height": 359
        },
        "outputId": "2638c2ac-01cb-4dde-8b35-722bd6765177"
      },
      "source": [
        "# Ahora, podemos hacer lo de sacar la probabilidad de estabilidad para un ecosistema random\n",
        "N = 1000\n",
        "S = 250\n",
        "C = 0.5\n",
        "sigma = 0.05\n",
        "paso = 0.0025\n",
        "P_random = [] # P es la lista de probabilidad de estabilidad\n",
        "Compl_random = [] # Compl es la lista de complejidad\n",
        "while(sigma < 0.15):\n",
        "  contador = 0 # El contador nos dirá cuantas matrices inestables hay, es mas facil\n",
        "  # porque en el momento que hay un autovalor negativo  para de mirar los demas, lo cual\n",
        "  # puede acortar el proceso\n",
        "  for i in range(N):\n",
        "    # Construimos las matrices\n",
        "    M = GenerarMRandomGauss(S, -1.0, C, 0.0, sigma)\n",
        "\n",
        "    # Sacamos los autovalores\n",
        "    autovalores, autovectores = np.linalg.eig(M)\n",
        "    \n",
        "    # Miramos si hay alguno mayor que 0, sacando una matriz inestable\n",
        "    estable = True\n",
        "    j = 0\n",
        "    while((estable == True)and(j < S)):\n",
        "      if(autovalores[j] > 0):\n",
        "        estable = False\n",
        "        contador += 1\n",
        "      j += 1\n",
        "    \n",
        "  print('Para sigma = ' + str(sigma) + ' tenemos ' + str(contador) + ' matrices inestables.')\n",
        "  Compl_random.extend([sigma*np.sqrt(S*C)])\n",
        "  P_random.extend([1-(contador*1.0)/(N*1.0)])\n",
        "  sigma += paso\n",
        "\n",
        "crearArchivo('datos_random.dat')\n",
        "file = open('datos_random.dat', 'w', encoding='utf8')\n",
        "for i in range(len(Compl_random)):\n",
        "  file.write(str(Compl_random[i]) + ' ' + str(P_random[i]) + '\\n')\n",
        "file.close()"
      ],
      "execution_count": null,
      "outputs": [
        {
          "output_type": "error",
          "ename": "KeyboardInterrupt",
          "evalue": "ignored",
          "traceback": [
            "\u001b[0;31m---------------------------------------------------------------------------\u001b[0m",
            "\u001b[0;31mKeyboardInterrupt\u001b[0m                         Traceback (most recent call last)",
            "\u001b[0;32m<ipython-input-10-6837c9cb4ca3>\u001b[0m in \u001b[0;36m<module>\u001b[0;34m()\u001b[0m\n\u001b[1;32m     13\u001b[0m   \u001b[0;32mfor\u001b[0m \u001b[0mi\u001b[0m \u001b[0;32min\u001b[0m \u001b[0mrange\u001b[0m\u001b[0;34m(\u001b[0m\u001b[0mN\u001b[0m\u001b[0;34m)\u001b[0m\u001b[0;34m:\u001b[0m\u001b[0;34m\u001b[0m\u001b[0;34m\u001b[0m\u001b[0m\n\u001b[1;32m     14\u001b[0m     \u001b[0;31m# Construimos las matrices\u001b[0m\u001b[0;34m\u001b[0m\u001b[0;34m\u001b[0m\u001b[0;34m\u001b[0m\u001b[0m\n\u001b[0;32m---> 15\u001b[0;31m     \u001b[0mM\u001b[0m \u001b[0;34m=\u001b[0m \u001b[0mGenerarMRandomGauss\u001b[0m\u001b[0;34m(\u001b[0m\u001b[0mS\u001b[0m\u001b[0;34m,\u001b[0m \u001b[0;34m-\u001b[0m\u001b[0;36m1.0\u001b[0m\u001b[0;34m,\u001b[0m \u001b[0mC\u001b[0m\u001b[0;34m,\u001b[0m \u001b[0;36m0.0\u001b[0m\u001b[0;34m,\u001b[0m \u001b[0msigma\u001b[0m\u001b[0;34m)\u001b[0m\u001b[0;34m\u001b[0m\u001b[0;34m\u001b[0m\u001b[0m\n\u001b[0m\u001b[1;32m     16\u001b[0m \u001b[0;34m\u001b[0m\u001b[0m\n\u001b[1;32m     17\u001b[0m     \u001b[0;31m# Sacamos los autovalores\u001b[0m\u001b[0;34m\u001b[0m\u001b[0;34m\u001b[0m\u001b[0;34m\u001b[0m\u001b[0m\n",
            "\u001b[0;32m<ipython-input-9-9ba0da1f9d59>\u001b[0m in \u001b[0;36mGenerarMRandomGauss\u001b[0;34m(S, d, C, media, sigma)\u001b[0m\n\u001b[1;32m      5\u001b[0m   \u001b[0;32mfor\u001b[0m \u001b[0mi\u001b[0m \u001b[0;32min\u001b[0m \u001b[0mrange\u001b[0m\u001b[0;34m(\u001b[0m\u001b[0mS\u001b[0m\u001b[0;34m)\u001b[0m\u001b[0;34m:\u001b[0m\u001b[0;34m\u001b[0m\u001b[0;34m\u001b[0m\u001b[0m\n\u001b[1;32m      6\u001b[0m     \u001b[0;32mfor\u001b[0m \u001b[0mj\u001b[0m \u001b[0;32min\u001b[0m \u001b[0mrange\u001b[0m\u001b[0;34m(\u001b[0m\u001b[0mS\u001b[0m\u001b[0;34m)\u001b[0m\u001b[0;34m:\u001b[0m\u001b[0;34m\u001b[0m\u001b[0;34m\u001b[0m\u001b[0m\n\u001b[0;32m----> 7\u001b[0;31m       \u001b[0mnum\u001b[0m \u001b[0;34m=\u001b[0m \u001b[0mnp\u001b[0m\u001b[0;34m.\u001b[0m\u001b[0mrandom\u001b[0m\u001b[0;34m.\u001b[0m\u001b[0mrand\u001b[0m\u001b[0;34m(\u001b[0m\u001b[0;34m)\u001b[0m\u001b[0;34m\u001b[0m\u001b[0;34m\u001b[0m\u001b[0m\n\u001b[0m\u001b[1;32m      8\u001b[0m       \u001b[0;32mif\u001b[0m\u001b[0;34m(\u001b[0m\u001b[0mi\u001b[0m \u001b[0;34m!=\u001b[0m \u001b[0mj\u001b[0m\u001b[0;34m)\u001b[0m\u001b[0;34m:\u001b[0m\u001b[0;34m\u001b[0m\u001b[0;34m\u001b[0m\u001b[0m\n\u001b[1;32m      9\u001b[0m         \u001b[0;32mif\u001b[0m\u001b[0;34m(\u001b[0m\u001b[0mnum\u001b[0m \u001b[0;34m>\u001b[0m \u001b[0mC\u001b[0m\u001b[0;34m)\u001b[0m\u001b[0;34m:\u001b[0m\u001b[0;34m\u001b[0m\u001b[0;34m\u001b[0m\u001b[0m\n",
            "\u001b[0;31mKeyboardInterrupt\u001b[0m: "
          ]
        }
      ]
    },
    {
      "cell_type": "code",
      "metadata": {
        "id": "1cYuambzCnNT"
      },
      "source": [
        "plt.plot(Compl_random, P_random, 'bo')"
      ],
      "execution_count": null,
      "outputs": []
    },
    {
      "cell_type": "markdown",
      "metadata": {
        "id": "D_4lVSWkTBTv"
      },
      "source": [
        "Se puede ver que la probabilidad de estabilidad sigue una distribución Lognormal, es decir, si una variable X sigue una distribución normal $N(\\mu, \\sigma^2)$, entonces $e^x$ sigue una distribución Lognormal$(\\mu, \\sigma^2)$.\n",
        "\n",
        "Conviene mirar el artículo del tema de invarianza de escala de mitzenmacher.pdf por las primeras páginas donde habla de la distribución lognormal, si la varianza es suficientemente grande, entonces si ploteamos esto log-log, saldrá algo parecido a una ley de potencias, merece la pena echarle un buen vistazo."
      ]
    },
    {
      "cell_type": "code",
      "metadata": {
        "id": "H5Qbag4tDaks"
      },
      "source": [
        "# Empezamos creando la funcion que genere una matriz aleatoria con una gaussiana, la anterior que hemos hecho\n",
        "# ha sido con una distribucion uniforme\n",
        "def GenerarMRandomGauss(S, d, C, media, sigma):\n",
        "  M = np.random.normal(loc = media, scale=sigma, size = (S, S))\n",
        "  for i in range(S):\n",
        "    for j in range(S):\n",
        "      num = np.random.rand()\n",
        "      if(i != j):\n",
        "        if(num > C):\n",
        "         M[i, j]=0.0\n",
        "      else:\n",
        "        M[i, j] = d\n",
        "  \n",
        "  return M"
      ],
      "execution_count": null,
      "outputs": []
    },
    {
      "cell_type": "code",
      "metadata": {
        "colab": {
          "base_uri": "https://localhost:8080/"
        },
        "id": "Iib1DWrzbN1N",
        "outputId": "747fab7d-c3ad-42c6-d265-61898efbf997"
      },
      "source": [
        "# Ahora, podemos hacer lo de sacar la probabilidad de estabilidad para un ecosistema random\n",
        "N = 1000\n",
        "S = 250\n",
        "C = 0.5\n",
        "sigma = 0.0075\n",
        "paso = 0.00005\n",
        "P_random = [] # P es la lista de probabilidad de estabilidad\n",
        "Compl_random = [] # Compl es la lista de complejidad\n",
        "while(sigma < 0.0083):\n",
        "  contador = 0 # El contador nos dirá cuantas matrices inestables hay, es mas facil\n",
        "  # porque en el momento que hay un autovalor negativo  para de mirar los demas, lo cual\n",
        "  # puede acortar el proceso\n",
        "  for i in range(N):\n",
        "    # Construimos las matrices\n",
        "    M = GenerarMRandomGauss(S, -1.0, C, sigma, sigma)\n",
        "\n",
        "    # Sacamos los autovalores\n",
        "    autovalores, autovectores = np.linalg.eig(M)\n",
        "    \n",
        "    # Miramos si hay alguno mayor que 0, sacando una matriz inestable\n",
        "    estable = True\n",
        "    j = 0\n",
        "    while((estable == True)and(j < S)):\n",
        "      if(autovalores[j] > 0):\n",
        "        estable = False\n",
        "        contador += 1\n",
        "      j += 1\n",
        "    \n",
        "  print('Para sigma = ' + str(sigma) + ' tenemos ' + str(contador) + ' matrices inestables.')\n",
        "  Compl_random.extend([sigma*np.sqrt(S*C)])\n",
        "  P_random.extend([1-(contador*1.0)/(N*1.0)])\n",
        "  sigma += paso\n",
        "\n",
        "crearArchivo('datos_random_nodeb.dat')\n",
        "file = open('datos_random_nodeb.dat', 'w', encoding='utf8')\n",
        "for i in range(len(Compl_random)):\n",
        "  file.write(str(Compl_random[i]) + ' ' + str(P_random[i]) + '\\n')\n",
        "file.close()"
      ],
      "execution_count": null,
      "outputs": [
        {
          "output_type": "stream",
          "text": [
            "Para sigma = 0.0075 tenemos 0 matrices inestables.\n",
            "Para sigma = 0.007549999999999999 tenemos 0 matrices inestables.\n",
            "Para sigma = 0.007599999999999999 tenemos 0 matrices inestables.\n",
            "Para sigma = 0.007649999999999999 tenemos 0 matrices inestables.\n",
            "Para sigma = 0.0076999999999999985 tenemos 0 matrices inestables.\n",
            "Para sigma = 0.007749999999999998 tenemos 0 matrices inestables.\n",
            "Para sigma = 0.007799999999999998 tenemos 0 matrices inestables.\n",
            "Para sigma = 0.007849999999999998 tenemos 2 matrices inestables.\n",
            "Para sigma = 0.007899999999999997 tenemos 4 matrices inestables.\n",
            "Para sigma = 0.007949999999999997 tenemos 64 matrices inestables.\n",
            "Para sigma = 0.007999999999999997 tenemos 292 matrices inestables.\n",
            "Para sigma = 0.008049999999999996 tenemos 628 matrices inestables.\n",
            "Para sigma = 0.008099999999999996 tenemos 866 matrices inestables.\n",
            "Para sigma = 0.008149999999999996 tenemos 987 matrices inestables.\n",
            "Para sigma = 0.008199999999999995 tenemos 998 matrices inestables.\n",
            "Para sigma = 0.008249999999999995 tenemos 1000 matrices inestables.\n",
            "Para sigma = 0.008299999999999995 tenemos 1000 matrices inestables.\n"
          ],
          "name": "stdout"
        }
      ]
    },
    {
      "cell_type": "markdown",
      "metadata": {
        "id": "Z2qTFk5tFs3V"
      },
      "source": [
        ""
      ]
    },
    {
      "cell_type": "markdown",
      "metadata": {
        "id": "UMEskV1AalUR"
      },
      "source": [
        "## Ecosistema aleatorio en el que no hay muchas interacciones débiles"
      ]
    },
    {
      "cell_type": "markdown",
      "metadata": {
        "id": "s3ix33Tzaqg_"
      },
      "source": [
        "Hasta donde hemos llegado, las interacciones débiles son más frecuentes cuando $\\mu \\approx 0$, mientras que serán menos frecuentes cuando $\\mu \\approx \\sigma$, vamos a hacerlo aquí para este útlimo caso, para random, depredador-presa, y mixto. El resto de casos se ha hecho para interacciones débiles."
      ]
    },
    {
      "cell_type": "code",
      "metadata": {
        "id": "rbUy-tTcakFg"
      },
      "source": [
        "# Empezamos creando la funcion que genere una matriz aleatoria con una gaussiana, la anterior que hemos hecho\n",
        "# ha sido con una distribucion uniforme\n",
        "def GenerarMRandomGauss(S, d, C, media, sigma):\n",
        "  M = np.random.normal(loc = media, scale=sigma, size = (S, S))\n",
        "  for i in range(S):\n",
        "    for j in range(S):\n",
        "      num = np.random.rand()\n",
        "      if(i != j):\n",
        "        if(num > C):\n",
        "         M[i, j]=0.0\n",
        "      else:\n",
        "        M[i, j] = d\n",
        "  \n",
        "  return M"
      ],
      "execution_count": null,
      "outputs": []
    },
    {
      "cell_type": "code",
      "metadata": {
        "id": "gHTaI0AedbSm"
      },
      "source": [
        "# Ahora, podemos hacer lo de sacar la probabilidad de estabilidad para un ecosistema random\n",
        "N = 1000\n",
        "S = 250\n",
        "C = 0.5\n",
        "sigma = 0.05\n",
        "paso = 0.0025\n",
        "P_random = [] # P es la lista de probabilidad de estabilidad\n",
        "Compl_random = [] # Compl es la lista de complejidad\n",
        "while(sigma < 0.15):\n",
        "  contador = 0 # El contador nos dirá cuantas matrices inestables hay, es mas facil\n",
        "  # porque en el momento que hay un autovalor negativo  para de mirar los demas, lo cual\n",
        "  # puede acortar el proceso\n",
        "  for i in range(N):\n",
        "    # Construimos las matrices\n",
        "    M = GenerarMRandomGauss(S, -1.0, C, sigma, sigma)\n",
        "\n",
        "    # Sacamos los autovalores\n",
        "    autovalores, autovectores = np.linalg.eig(M)\n",
        "    \n",
        "    # Miramos si hay alguno mayor que 0, sacando una matriz inestable\n",
        "    estable = True\n",
        "    j = 0\n",
        "    while((estable == True)and(j < S)):\n",
        "      if(autovalores[j] > 0):\n",
        "        estable = False\n",
        "        contador += 1\n",
        "      j += 1\n",
        "    \n",
        "  print('Para sigma = ' + str(sigma) + ' tenemos ' + str(contador) + ' matrices inestables.')\n",
        "  Compl_random.extend([sigma*np.sqrt(S*C)])\n",
        "  P_random.extend([1-(contador*1.0)/(N*1.0)])\n",
        "  sigma += paso\n",
        "\n",
        "crearArchivo('datos_random_nodeb.dat')\n",
        "file = open('datos_random_nodeb.dat', 'w', encoding='utf8')\n",
        "for i in range(len(Compl_random)):\n",
        "  file.write(str(Compl_random[i]) + ' ' + str(P_random[i]) + '\\n')\n",
        "file.close()"
      ],
      "execution_count": null,
      "outputs": []
    },
    {
      "cell_type": "markdown",
      "metadata": {
        "id": "HhdgZ5XowqVa"
      },
      "source": [
        "## Mutualismo\n"
      ]
    },
    {
      "cell_type": "code",
      "metadata": {
        "colab": {
          "base_uri": "https://localhost:8080/"
        },
        "id": "COGf7MdYwoum",
        "outputId": "4ce2aa12-fb12-46f1-cf08-7b363cb542e5"
      },
      "source": [
        "# Ahora, podemos hacer lo de sacar la probabilidad de estabilidad para un ecosistema random\n",
        "N = 1000\n",
        "S = 250\n",
        "C = 0.5\n",
        "sigma = 0.0185\n",
        "paso = 0.0002\n",
        "P_Mutua = [] # P es la lista de probabilidad de estabilidad\n",
        "Compl_Mutua = [] # Compl es la lista de complejidad\n",
        "while(sigma < 0.021):\n",
        "  contador = 0 # El contador nos dirá cuantas matrices inestables hay, es mas facil\n",
        "  # porque en el momento que hay un autovalor negativo  para de mirar los demas, lo cual\n",
        "  # puede acortar el proceso\n",
        "  for i in range(N):\n",
        "    # Construimos las matrices\n",
        "    M = GenerarMutuaGauss(S, -1.0, C, 0.0, sigma)\n",
        "\n",
        "    # Sacamos los autovalores\n",
        "    autovalores, autovectores = np.linalg.eig(M)\n",
        "    \n",
        "    # Miramos si hay alguno mayor que 0, sacando una matriz inestable\n",
        "    estable = True\n",
        "    j = 0\n",
        "    while((estable == True)and(j < S)):\n",
        "      if(autovalores[j] > 0):\n",
        "        estable = False\n",
        "        contador += 1\n",
        "      j += 1\n",
        "    \n",
        "  print('Para sigma = ' + str(sigma) + ' tenemos ' + str(contador) + ' matrices inestables.')\n",
        "  Compl_Mutua.extend([sigma*np.sqrt(S*C)])\n",
        "  P_Mutua.extend([1-(contador*1.0)/(N*1.0)])\n",
        "  sigma += paso\n",
        "\n",
        "crearArchivo('datos_Mutua.dat')\n",
        "file = open('datos_Mutua.dat', 'w', encoding='utf8')\n",
        "for i in range(len(Compl_Mutua)):\n",
        "  file.write(str(Compl_Mutua[i]) + ' ' + str(P_Mutua[i]) + '\\n')\n",
        "file.close()"
      ],
      "execution_count": null,
      "outputs": [
        {
          "output_type": "stream",
          "text": [
            "Para sigma = 0.0185 tenemos 0 matrices inestables.\n",
            "Para sigma = 0.018699999999999998 tenemos 0 matrices inestables.\n",
            "Para sigma = 0.018899999999999997 tenemos 0 matrices inestables.\n",
            "Para sigma = 0.019099999999999995 tenemos 0 matrices inestables.\n",
            "Para sigma = 0.019299999999999994 tenemos 2 matrices inestables.\n",
            "Para sigma = 0.019499999999999993 tenemos 35 matrices inestables.\n",
            "Para sigma = 0.019699999999999992 tenemos 218 matrices inestables.\n",
            "Para sigma = 0.01989999999999999 tenemos 527 matrices inestables.\n",
            "Para sigma = 0.02009999999999999 tenemos 824 matrices inestables.\n",
            "Para sigma = 0.020299999999999988 tenemos 945 matrices inestables.\n",
            "Para sigma = 0.020499999999999987 tenemos 994 matrices inestables.\n",
            "Para sigma = 0.020699999999999986 tenemos 1000 matrices inestables.\n",
            "Para sigma = 0.020899999999999985 tenemos 1000 matrices inestables.\n"
          ],
          "name": "stdout"
        }
      ]
    },
    {
      "cell_type": "markdown",
      "metadata": {
        "id": "_SkeqZHJ19kD"
      },
      "source": [
        "## Competición"
      ]
    },
    {
      "cell_type": "code",
      "metadata": {
        "id": "xJ42VtRg2S9C"
      },
      "source": [
        "# Empezamos sacando la función con la cual generar las redes competitivas\n",
        "# Antes, definimos a función que genera una red de mutualismo combinada con competición.\n",
        "def GenerarCompeticionGauss(S, d, C, media, sigma):\n",
        "  # En este caso, la distribucion de probabilidad es la uniforme\n",
        "  M = np.random.normal(loc = media, scale = sigma, size = (S, S))\n",
        "  for i in range(S):\n",
        "    for j in range(S):\n",
        "      num = np.random.rand()\n",
        "      if(i != j):\n",
        "        if(num > C):\n",
        "         M[i, j] = 0.0\n",
        "         M[j, i] = 0.0\n",
        "        else:\n",
        "          if(M[i, j] > 0):\n",
        "            M[i, j] = (-1.0)*M[i, j]\n",
        "          if(M[j, i] > 0):\n",
        "            M[j, i] = -1.0*M[j, i]\n",
        "      else:\n",
        "        M[i, j] = d\n",
        "  \n",
        "  return M"
      ],
      "execution_count": null,
      "outputs": []
    },
    {
      "cell_type": "code",
      "metadata": {
        "id": "c-eCoXMF1_y2"
      },
      "source": [
        "# Ahora, podemos hacer lo de sacar la probabilidad de estabilidad para un ecosistema random\n",
        "N = 1000\n",
        "S = 250\n",
        "C = 0.5\n",
        "sigma = 0.005\n",
        "paso = 0.0025\n",
        "P_Comp = [] # P es la lista de probabilidad de estabilidad\n",
        "Compl_Comp = [] # Compl es la lista de complejidad\n",
        "while(sigma < 0.15):\n",
        "  contador = 0 # El contador nos dirá cuantas matrices inestables hay, es mas facil\n",
        "  # porque en el momento que hay un autovalor negativo  para de mirar los demas, lo cual\n",
        "  # puede acortar el proceso\n",
        "  for i in range(N):\n",
        "    # Construimos las matrices\n",
        "    M = GenerarCompeticionGauss(S, -1.0, C, 0.0, sigma)\n",
        "\n",
        "    # Sacamos los autovalores\n",
        "    autovalores, autovectores = np.linalg.eig(M)\n",
        "    \n",
        "    # Miramos si hay alguno mayor que 0, sacando una matriz inestable\n",
        "    estable = True\n",
        "    j = 0\n",
        "    while((estable == True)and(j < S)):\n",
        "      if(autovalores[j] > 0):\n",
        "        estable = False\n",
        "        contador += 1\n",
        "      j += 1\n",
        "    \n",
        "  print('Para sigma = ' + str(sigma) + ' tenemos ' + str(contador) + ' matrices inestables.')\n",
        "  Compl_Comp.extend([sigma*np.sqrt(S*C)])\n",
        "  P_Comp.extend([1-(contador*1.0)/(N*1.0)])\n",
        "  sigma += paso\n",
        "\n",
        "crearArchivo('datos_Comp.dat')\n",
        "file = open('datos_Comp.dat', 'w', encoding='utf8')\n",
        "for i in range(len(Compl_Comp)):\n",
        "  file.write(str(Compl_Comp[i]) + ' ' + str(P_Comp[i]) + '\\n')\n",
        "file.close()"
      ],
      "execution_count": null,
      "outputs": []
    },
    {
      "cell_type": "markdown",
      "metadata": {
        "id": "K_Cuxvk5GCKg"
      },
      "source": [
        "## Para una red de tipo predador-presa"
      ]
    },
    {
      "cell_type": "markdown",
      "metadata": {
        "id": "AJbSz_OpGyms"
      },
      "source": [
        "Vamos a empezar con una red depredador presa tipo gaussiana, luego lo haremos con una uniforme, ya que también puede ser interesante para todos los casos (sin el caso random) hacerlo para las dos distribuciones. \n",
        "\n",
        "El caso es parecido, 1000 matrices por valor de la complejidad, C = 0.5, S = 250, y vamos variando la sigma, empezamos por sigma = 0.134 y terminamos en sigma = 0.358, con un paso de 0.007, salen 32 pasos."
      ]
    },
    {
      "cell_type": "code",
      "metadata": {
        "id": "O-jsNLu1DoHg"
      },
      "source": [
        "# Empezamos obteniendo la función que genere redes predador-presa, pero con gaussianas\n",
        "def GenerarPredadorPresaGauss(S, d, C, media, sigma):\n",
        "  # En este caso, la distribucion de probabilidad es la uniforme\n",
        "  \n",
        "  M = np.random.normal(loc = media, scale = sigma, size = (S, S))\n",
        "  for i in range(S):\n",
        "    for j in range(S):\n",
        "      num = np.random.rand()\n",
        "      if(i != j):\n",
        "        if(num > C):\n",
        "         M[i, j] = 0.0\n",
        "         M[j, i] = 0.0\n",
        "        else:\n",
        "          if(M[i, j]*M[j, i] > 0):\n",
        "            M[i, j] = (-1.0)*M[i, j]\n",
        "      else:\n",
        "        M[i, j] = d\n",
        "  \n",
        "  return M"
      ],
      "execution_count": null,
      "outputs": []
    },
    {
      "cell_type": "code",
      "metadata": {
        "colab": {
          "base_uri": "https://localhost:8080/",
          "height": 376
        },
        "id": "8AyqIHLTKDLK",
        "outputId": "8328d505-1d6c-4dc9-b5a3-8114878631c9"
      },
      "source": [
        "# Ahora, podemos sacar la probabilidad de estabilidad para este tipo de red\n",
        "# Ahora, podemos hacer lo de sacar la probabilidad de estabilidad\n",
        "N = 1000\n",
        "S = 250\n",
        "C = 0.5\n",
        "sigma = 0.268\n",
        "paso = 0.006\n",
        "P_Pred_Gauss = [] # P es la lista de probabilidad de estabilidad\n",
        "Compl_Pred_Gauss = [] # Compl es la lista de complejidad\n",
        "while(sigma < 0.40):\n",
        "  contador = 0 # El contador nos dirá cuantas matrices inestables hay, es mas facil\n",
        "  # porque en el momento que hay un autovalor negativo  para de mirar los demas, lo cual\n",
        "  # puede acortar el proceso\n",
        "  for i in range(N):\n",
        "    # Construimos las matrices\n",
        "    M = GenerarPredadorPresaGauss(S, -1.0, C, 0.0, sigma)\n",
        "\n",
        "    # Sacamos los autovalores\n",
        "    autovalores, autovectores = np.linalg.eig(M)\n",
        "    \n",
        "    # Miramos si hay alguno mayor que 0, sacando una matriz inestable\n",
        "    estable = True\n",
        "    j = 0\n",
        "    while((estable == True)and(j < S)):\n",
        "      if(autovalores[j] > 0):\n",
        "        estable = False\n",
        "        contador += 1\n",
        "      j += 1\n",
        "    \n",
        "    \n",
        "  print('Para sigma = ' + str(sigma) + ' tenemos ' + str(contador) + ' matrices inestables.')\n",
        "  Compl_Pred_Gauss.extend([sigma*np.sqrt(S*C)])\n",
        "  P_Pred_Gauss.extend([1-(contador*1.0)/(N*1.0)])\n",
        "  sigma += paso\n",
        "\n",
        "crearArchivo('datos_PredGauss.dat')\n",
        "file = open('datos_PredGauss.dat', 'w', encoding='utf8')\n",
        "for i in range(len(Compl_Pred_Gauss)):\n",
        "  file.write(str(Compl_Pred_Gauss[i]) + ' ' + str(P_Pred_Gauss[i]) + '\\n')\n",
        "file.close()\n",
        "\n"
      ],
      "execution_count": null,
      "outputs": [
        {
          "output_type": "stream",
          "text": [
            "Para sigma = 0.268 tenemos 0 matrices inestables.\n"
          ],
          "name": "stdout"
        },
        {
          "output_type": "error",
          "ename": "KeyboardInterrupt",
          "evalue": "ignored",
          "traceback": [
            "\u001b[0;31m---------------------------------------------------------------------------\u001b[0m",
            "\u001b[0;31mKeyboardInterrupt\u001b[0m                         Traceback (most recent call last)",
            "\u001b[0;32m<ipython-input-19-883321e2bd63>\u001b[0m in \u001b[0;36m<module>\u001b[0;34m()\u001b[0m\n\u001b[1;32m     14\u001b[0m   \u001b[0;32mfor\u001b[0m \u001b[0mi\u001b[0m \u001b[0;32min\u001b[0m \u001b[0mrange\u001b[0m\u001b[0;34m(\u001b[0m\u001b[0mN\u001b[0m\u001b[0;34m)\u001b[0m\u001b[0;34m:\u001b[0m\u001b[0;34m\u001b[0m\u001b[0;34m\u001b[0m\u001b[0m\n\u001b[1;32m     15\u001b[0m     \u001b[0;31m# Construimos las matrices\u001b[0m\u001b[0;34m\u001b[0m\u001b[0;34m\u001b[0m\u001b[0;34m\u001b[0m\u001b[0m\n\u001b[0;32m---> 16\u001b[0;31m     \u001b[0mM\u001b[0m \u001b[0;34m=\u001b[0m \u001b[0mGenerarPredadorPresaGauss\u001b[0m\u001b[0;34m(\u001b[0m\u001b[0mS\u001b[0m\u001b[0;34m,\u001b[0m \u001b[0;34m-\u001b[0m\u001b[0;36m1.0\u001b[0m\u001b[0;34m,\u001b[0m \u001b[0mC\u001b[0m\u001b[0;34m,\u001b[0m \u001b[0;36m0.0\u001b[0m\u001b[0;34m,\u001b[0m \u001b[0msigma\u001b[0m\u001b[0;34m)\u001b[0m\u001b[0;34m\u001b[0m\u001b[0;34m\u001b[0m\u001b[0m\n\u001b[0m\u001b[1;32m     17\u001b[0m \u001b[0;34m\u001b[0m\u001b[0m\n\u001b[1;32m     18\u001b[0m     \u001b[0;31m# Sacamos los autovalores\u001b[0m\u001b[0;34m\u001b[0m\u001b[0;34m\u001b[0m\u001b[0;34m\u001b[0m\u001b[0m\n",
            "\u001b[0;32m<ipython-input-18-d0eceda87abd>\u001b[0m in \u001b[0;36mGenerarPredadorPresaGauss\u001b[0;34m(S, d, C, media, sigma)\u001b[0m\n\u001b[1;32m      6\u001b[0m   \u001b[0;32mfor\u001b[0m \u001b[0mi\u001b[0m \u001b[0;32min\u001b[0m \u001b[0mrange\u001b[0m\u001b[0;34m(\u001b[0m\u001b[0mS\u001b[0m\u001b[0;34m)\u001b[0m\u001b[0;34m:\u001b[0m\u001b[0;34m\u001b[0m\u001b[0;34m\u001b[0m\u001b[0m\n\u001b[1;32m      7\u001b[0m     \u001b[0;32mfor\u001b[0m \u001b[0mj\u001b[0m \u001b[0;32min\u001b[0m \u001b[0mrange\u001b[0m\u001b[0;34m(\u001b[0m\u001b[0mS\u001b[0m\u001b[0;34m)\u001b[0m\u001b[0;34m:\u001b[0m\u001b[0;34m\u001b[0m\u001b[0;34m\u001b[0m\u001b[0m\n\u001b[0;32m----> 8\u001b[0;31m       \u001b[0mnum\u001b[0m \u001b[0;34m=\u001b[0m \u001b[0mnp\u001b[0m\u001b[0;34m.\u001b[0m\u001b[0mrandom\u001b[0m\u001b[0;34m.\u001b[0m\u001b[0mrand\u001b[0m\u001b[0;34m(\u001b[0m\u001b[0;34m)\u001b[0m\u001b[0;34m\u001b[0m\u001b[0;34m\u001b[0m\u001b[0m\n\u001b[0m\u001b[1;32m      9\u001b[0m       \u001b[0;32mif\u001b[0m\u001b[0;34m(\u001b[0m\u001b[0mi\u001b[0m \u001b[0;34m!=\u001b[0m \u001b[0mj\u001b[0m\u001b[0;34m)\u001b[0m\u001b[0;34m:\u001b[0m\u001b[0;34m\u001b[0m\u001b[0;34m\u001b[0m\u001b[0m\n\u001b[1;32m     10\u001b[0m         \u001b[0;32mif\u001b[0m\u001b[0;34m(\u001b[0m\u001b[0mnum\u001b[0m \u001b[0;34m>\u001b[0m \u001b[0mC\u001b[0m\u001b[0;34m)\u001b[0m\u001b[0;34m:\u001b[0m\u001b[0;34m\u001b[0m\u001b[0;34m\u001b[0m\u001b[0m\n",
            "\u001b[0;31mKeyboardInterrupt\u001b[0m: "
          ]
        }
      ]
    },
    {
      "cell_type": "code",
      "metadata": {
        "colab": {
          "base_uri": "https://localhost:8080/",
          "height": 282
        },
        "id": "flMoYT1hi1Bz",
        "outputId": "4530dd50-36df-40a6-8bd5-2fbc0969b51c"
      },
      "source": [
        "plt.plot(Compl_Pred_Gauss, P_Pred_Gauss, 'bo')"
      ],
      "execution_count": null,
      "outputs": [
        {
          "output_type": "execute_result",
          "data": {
            "text/plain": [
              "[<matplotlib.lines.Line2D at 0x7f89ea1d3290>]"
            ]
          },
          "metadata": {
            "tags": []
          },
          "execution_count": 24
        },
        {
          "output_type": "display_data",
          "data": {
            "image/png": "[encoded data removed]",
            "text/plain": [
              "<Figure size 432x288 with 1 Axes>"
            ]
          },
          "metadata": {
            "tags": [],
            "needs_background": "light"
          }
        }
      ]
    },
    {
      "cell_type": "markdown",
      "metadata": {
        "id": "Tox4aFcEKycN"
      },
      "source": [
        "Ahora, vamos a sacar la red predador presa pero con la distribucion uniforme, los parametros a usar son , en un principio, los mismos que para el caso de la red predador presa con una distribucion normal."
      ]
    },
    {
      "cell_type": "code",
      "metadata": {
        "colab": {
          "base_uri": "https://localhost:8080/"
        },
        "id": "IU0ImsDlKw-h",
        "outputId": "f06ccb94-65d8-4b13-eb03-8c9666e4567f"
      },
      "source": [
        "# Ahora, podemos sacar la probabilidad de estabilidad para este tipo de red\n",
        "# Ahora, podemos hacer lo de sacar la probabilidad de estabilidad\n",
        "N = 1000\n",
        "S = 250\n",
        "C = 0.5\n",
        "sigma = 0.358\n",
        "paso = 0.007\n",
        "P_Pred_Uni = [] # P es la lista de probabilidad de estabilidad\n",
        "Compl_Pred_Uni = [] # Compl es la lista de complejidad\n",
        "while(sigma < 0.6):\n",
        "  contador = 0 # El contador nos dirá cuantas matrices inestables hay, es mas facil\n",
        "  # porque en el momento que hay un autovalor negativo  para de mirar los demas, lo cual\n",
        "  # puede acortar el proceso\n",
        "  for i in range(N):\n",
        "    # Construimos las matrices\n",
        "    M = GenerarPredadorPresa(S, -1.0, C, 0.0, sigma)\n",
        "\n",
        "    # Sacamos los autovalores\n",
        "    autovalores, autovectores = np.linalg.eig(M)\n",
        "    \n",
        "    # Miramos si hay alguno mayor que 0, sacando una matriz inestable\n",
        "    estable = True\n",
        "    j = 0\n",
        "    while((estable == True)and(j < S)):\n",
        "      if(autovalores[j] > 0):\n",
        "        estable = False\n",
        "        contador += 1\n",
        "      j += 1\n",
        "    \n",
        "    \n",
        "  print('Para sigma = ' + str(sigma) + ' tenemos ' + str(contador) + ' matrices inestables.')\n",
        "  Compl_Pred_Uni.extend([sigma*np.sqrt(S*C)])\n",
        "  P_Pred_Uni.extend([1-(contador*1.0)/(N*1.0)])\n",
        "  sigma += paso\n",
        "\n",
        "crearArchivo('datos_PredUni.dat')\n",
        "file = open('datos_PredUni.dat', 'w', encoding='utf8')\n",
        "for i in range(len(Compl_Pred_Uni)):\n",
        "  file.write(str(Compl_Pred_Uni[i]) + ' ' + str(P_Pred_Uni[i]) + '\\n')\n",
        "file.close()\n"
      ],
      "execution_count": null,
      "outputs": [
        {
          "output_type": "stream",
          "text": [
            "Para sigma = 0.358 tenemos 0 matrices inestables.\n",
            "Para sigma = 0.365 tenemos 0 matrices inestables.\n",
            "Para sigma = 0.372 tenemos 0 matrices inestables.\n",
            "Para sigma = 0.379 tenemos 0 matrices inestables.\n",
            "Para sigma = 0.386 tenemos 0 matrices inestables.\n",
            "Para sigma = 0.393 tenemos 0 matrices inestables.\n",
            "Para sigma = 0.4 tenemos 0 matrices inestables.\n",
            "Para sigma = 0.40700000000000003 tenemos 0 matrices inestables.\n",
            "Para sigma = 0.41400000000000003 tenemos 0 matrices inestables.\n",
            "Para sigma = 0.42100000000000004 tenemos 1 matrices inestables.\n",
            "Para sigma = 0.42800000000000005 tenemos 3 matrices inestables.\n",
            "Para sigma = 0.43500000000000005 tenemos 0 matrices inestables.\n",
            "Para sigma = 0.44200000000000006 tenemos 6 matrices inestables.\n",
            "Para sigma = 0.44900000000000007 tenemos 10 matrices inestables.\n",
            "Para sigma = 0.45600000000000007 tenemos 15 matrices inestables.\n",
            "Para sigma = 0.4630000000000001 tenemos 19 matrices inestables.\n",
            "Para sigma = 0.4700000000000001 tenemos 31 matrices inestables.\n",
            "Para sigma = 0.4770000000000001 tenemos 47 matrices inestables.\n",
            "Para sigma = 0.4840000000000001 tenemos 65 matrices inestables.\n",
            "Para sigma = 0.4910000000000001 tenemos 99 matrices inestables.\n",
            "Para sigma = 0.4980000000000001 tenemos 141 matrices inestables.\n",
            "Para sigma = 0.5050000000000001 tenemos 172 matrices inestables.\n",
            "Para sigma = 0.5120000000000001 tenemos 234 matrices inestables.\n",
            "Para sigma = 0.5190000000000001 tenemos 285 matrices inestables.\n",
            "Para sigma = 0.5260000000000001 tenemos 366 matrices inestables.\n",
            "Para sigma = 0.5330000000000001 tenemos 450 matrices inestables.\n",
            "Para sigma = 0.5400000000000001 tenemos 536 matrices inestables.\n",
            "Para sigma = 0.5470000000000002 tenemos 622 matrices inestables.\n",
            "Para sigma = 0.5540000000000002 tenemos 701 matrices inestables.\n",
            "Para sigma = 0.5610000000000002 tenemos 767 matrices inestables.\n",
            "Para sigma = 0.5680000000000002 tenemos 849 matrices inestables.\n",
            "Para sigma = 0.5750000000000002 tenemos 899 matrices inestables.\n",
            "Para sigma = 0.5820000000000002 tenemos 935 matrices inestables.\n",
            "Para sigma = 0.5890000000000002 tenemos 959 matrices inestables.\n",
            "Para sigma = 0.5960000000000002 tenemos 969 matrices inestables.\n"
          ],
          "name": "stdout"
        }
      ]
    },
    {
      "cell_type": "code",
      "metadata": {
        "colab": {
          "base_uri": "https://localhost:8080/",
          "height": 282
        },
        "id": "wZbp4n8ERptK",
        "outputId": "fba939ee-0579-4a94-cf95-7f76eb8300cd"
      },
      "source": [
        "plt.plot(Compl_Pred_Uni, P_Pred_Uni, 'bo')"
      ],
      "execution_count": null,
      "outputs": [
        {
          "output_type": "execute_result",
          "data": {
            "text/plain": [
              "[<matplotlib.lines.Line2D at 0x7f954f511cd0>]"
            ]
          },
          "metadata": {
            "tags": []
          },
          "execution_count": 11
        },
        {
          "output_type": "display_data",
          "data": {
            "image/png": "[encoded data removed]",
            "text/plain": [
              "<Figure size 432x288 with 1 Axes>"
            ]
          },
          "metadata": {
            "tags": [],
            "needs_background": "light"
          }
        }
      ]
    },
    {
      "cell_type": "markdown",
      "metadata": {
        "id": "gtV5uJy5ddqa"
      },
      "source": [
        "## Para una red depredador presa sin muchas interacciones débiles"
      ]
    },
    {
      "cell_type": "code",
      "metadata": {
        "id": "WNS-CwIxdja6"
      },
      "source": [
        "# Empezamos obteniendo la función que genere redes predador-presa, pero con gaussianas\n",
        "def GenerarPredadorPresaGauss(S, d, C, media, sigma):\n",
        "  # En este caso, la distribucion de probabilidad es la uniforme\n",
        "  \n",
        "  M = np.random.normal(loc = media, scale = sigma, size = (S, S))\n",
        "  for i in range(S):\n",
        "    for j in range(S):\n",
        "      num = np.random.rand()\n",
        "      if(i != j):\n",
        "        if(num > C):\n",
        "         M[i, j] = 0.0\n",
        "         M[j, i] = 0.0\n",
        "        else:\n",
        "          if(M[i, j]*M[j, i] > 0):\n",
        "            M[i, j] = (-1.0)*M[i, j]\n",
        "      else:\n",
        "        M[i, j] = d\n",
        "  \n",
        "  return M"
      ],
      "execution_count": null,
      "outputs": []
    },
    {
      "cell_type": "code",
      "metadata": {
        "id": "9CDEHhXtdoV1"
      },
      "source": [
        "# Ahora, podemos sacar la probabilidad de estabilidad para este tipo de red\n",
        "# Ahora, podemos hacer lo de sacar la probabilidad de estabilidad\n",
        "N = 1000\n",
        "S = 250\n",
        "C = 0.5\n",
        "sigma = 0.268\n",
        "paso = 0.006\n",
        "P_Pred_Gauss = [] # P es la lista de probabilidad de estabilidad\n",
        "Compl_Pred_Gauss = [] # Compl es la lista de complejidad\n",
        "while(sigma < 0.40):\n",
        "  contador = 0 # El contador nos dirá cuantas matrices inestables hay, es mas facil\n",
        "  # porque en el momento que hay un autovalor negativo  para de mirar los demas, lo cual\n",
        "  # puede acortar el proceso\n",
        "  for i in range(N):\n",
        "    # Construimos las matrices\n",
        "    M = GenerarPredadorPresaGauss(S, -1.0, C, sigma, sigma)\n",
        "\n",
        "    # Sacamos los autovalores\n",
        "    autovalores, autovectores = np.linalg.eig(M)\n",
        "    \n",
        "    # Miramos si hay alguno mayor que 0, sacando una matriz inestable\n",
        "    estable = True\n",
        "    j = 0\n",
        "    while((estable == True)and(j < S)):\n",
        "      if(autovalores[j] > 0):\n",
        "        estable = False\n",
        "        contador += 1\n",
        "      j += 1\n",
        "    \n",
        "    \n",
        "  print('Para sigma = ' + str(sigma) + ' tenemos ' + str(contador) + ' matrices inestables.')\n",
        "  Compl_Pred_Gauss.extend([sigma*np.sqrt(S*C)])\n",
        "  P_Pred_Gauss.extend([1-(contador*1.0)/(N*1.0)])\n",
        "  sigma += paso\n",
        "\n",
        "crearArchivo('datos_PredGauss_nodeb.dat')\n",
        "file = open('datos_PredGauss_nodeb.dat', 'w', encoding='utf8')\n",
        "for i in range(len(Compl_Pred_Gauss)):\n",
        "  file.write(str(Compl_Pred_Gauss[i]) + ' ' + str(P_Pred_Gauss[i]) + '\\n')\n",
        "file.close()\n"
      ],
      "execution_count": null,
      "outputs": []
    },
    {
      "cell_type": "markdown",
      "metadata": {
        "id": "0POjkZ3cLVGN"
      },
      "source": [
        "## Modelo de nicho de predador-presa"
      ]
    },
    {
      "cell_type": "markdown",
      "metadata": {
        "id": "F77Zt4p5T1nw"
      },
      "source": [
        "Vamos a obtener el modelo de nicho de la red predador presa, para eso, se ha recurrido al paper de suplementary information del artículo de Allesina de 2012"
      ]
    },
    {
      "cell_type": "code",
      "metadata": {
        "id": "DsQi9ccAXAAo"
      },
      "source": [
        "# Empezamos obteniendo una función que genere redes predador-presa con el modelo de nicho\n",
        "def GenerarPredadorPresaNicho(S, d, C, media, sigma):\n",
        "  # Empezamos sacando la matriz de adyacencia, A, en la cual Aij es 1 si i es presa de j\n",
        "\n",
        "  A = np.zeros((S, S))\n",
        "  for i in range(S):\n",
        "    for j in range(S):\n",
        "      num = np.random.rand()\n",
        "      if(num < C):\n",
        "        A[i, j] = 1.0\n",
        "\n",
        "  # Sacamos la matriz P\n",
        "  P = -A + A.T\n",
        "\n",
        "  # Sacamos la matriz Y de una distribucion normal N(0, sigma), pero con elementos solo positivos\n",
        "  Y = np.random.normal(loc = media, scale = sigma, size = (S, S))\n",
        "  for i in range(S):\n",
        "    for j in range(S):\n",
        "      if(Y[i, j] < 0.0):\n",
        "        Y[i, j] = -1.0*Y[i, j]\n",
        "  \n",
        "  # Ahora, podemos construir la matriz comunidad\n",
        "  M = np.dot(Y, P)\n",
        "  for i in range(S):\n",
        "    M[i, i] = d\n",
        "\n",
        "  return M\n",
        "  "
      ],
      "execution_count": null,
      "outputs": []
    },
    {
      "cell_type": "code",
      "metadata": {
        "id": "KHsdQwSjdUtD"
      },
      "source": [
        "# Ahora, podemos estudiar la estabilidad de esta red\n",
        "N = 1000\n",
        "S = 250\n",
        "C = 0.5\n",
        "sigma = 0.358\n",
        "paso = 0.007\n",
        "P_Pred_Nicho = [] # P es la lista de probabilidad de estabilidad\n",
        "Compl_Pred_Nicho = [] # Compl es la lista de complejidad\n",
        "while(sigma < 0.6):\n",
        "  contador = 0 # El contador nos dirá cuantas matrices inestables hay, es mas facil\n",
        "  # porque en el momento que hay un autovalor negativo  para de mirar los demas, lo cual\n",
        "  # puede acortar el proceso\n",
        "  for i in range(N):\n",
        "    # Construimos las matrices\n",
        "    M = GenerarPredadorPresaNicho(S, -1.0, C, 0.0, sigma)\n",
        "\n",
        "    # Sacamos los autovalores\n",
        "    autovalores, autovectores = np.linalg.eig(M)\n",
        "    \n",
        "    # Miramos si hay alguno mayor que 0, sacando una matriz inestable\n",
        "    estable = True\n",
        "    j = 0\n",
        "    while((estable == True)and(j < S)):\n",
        "      if(autovalores[j] > 0):\n",
        "        estable = False\n",
        "        contador += 1\n",
        "      j += 1\n",
        "    \n",
        "    \n",
        "  print('Para sigma = ' + str(sigma) + ' tenemos ' + str(contador) + ' matrices inestables.')\n",
        "  Compl_Pred_Nicho.extend([sigma*np.sqrt(S*C)])\n",
        "  P_Pred_Nicho.extend([1-(contador*1.0)/(N*1.0)])\n",
        "  sigma += paso\n",
        "\n",
        "crearArchivo('datos_PredNicho.dat')\n",
        "file = open('datos_PredNicho.dat', 'w', encoding='utf8')\n",
        "for i in range(len(Compl_Pred_Nicho)):\n",
        "  file.write(str(Compl_Pred_Nicho[i]) + ' ' + str(P_Pred_Nicho[i]) + '\\n')\n",
        "file.close()"
      ],
      "execution_count": null,
      "outputs": []
    },
    {
      "cell_type": "markdown",
      "metadata": {
        "id": "DLXpYzKu_qid"
      },
      "source": [
        "## Mutualismo bipartito"
      ]
    },
    {
      "cell_type": "code",
      "metadata": {
        "id": "CBm4ySgY_voP"
      },
      "source": [
        "# Antes, definimos a función que genera una red de mutualismo combinada con competición.\n",
        "def GenerarMutuaBi(S, d, C, media, sigma):\n",
        "  # En este caso, la distribucion de probabilidad es la uniforme\n",
        "  M = np.random.normal(loc = media, scale = sigma, size = (S, S))\n",
        "  C_nueva = (2.0*C*(S-1))/S\n",
        "  for i in range(S):\n",
        "    for j in range(S):\n",
        "      num = np.random.rand()\n",
        "      if(i != j):\n",
        "        if(num > C_nueva):\n",
        "         M[i, j] = 0.0\n",
        "         M[j, i] = 0.0\n",
        "        else:\n",
        "          if(M[i, j] < 0):\n",
        "            M[i, j] = (-1.0)*M[i, j]\n",
        "          if(M[j, i] < 0):\n",
        "            M[j, i] = -1.0*M[j, i]\n",
        "      else:\n",
        "        M[i, j] = d\n",
        "  \n",
        "  return M"
      ],
      "execution_count": null,
      "outputs": []
    },
    {
      "cell_type": "code",
      "metadata": {
        "id": "RR6zh3BX__AE"
      },
      "source": [
        "# Ahora, podemos sacar la probabilidad de estabilidad para este tipo de red\n",
        "# Ahora, podemos hacer lo de sacar la probabilidad de estabilidad\n",
        "N = 1000\n",
        "S = 250\n",
        "C = 0.5\n",
        "sigma = 0.005\n",
        "paso = 0.007\n",
        "P_Pred_Cascada = [] # P es la lista de probabilidad de estabilidad\n",
        "Compl_Pred_Cascada = [] # Compl es la lista de complejidad\n",
        "while(sigma < 0.4):\n",
        "  contador = 0 # El contador nos dirá cuantas matrices inestables hay, es mas facil\n",
        "  # porque en el momento que hay un autovalor negativo  para de mirar los demas, lo cual\n",
        "  # puede acortar el proceso\n",
        "  for i in range(N):\n",
        "    # Construimos las matrices\n",
        "    M = GenerarPredadorPresaCascade(S, -1.0, C, 0.0, sigma)\n",
        "\n",
        "    # Sacamos los autovalores\n",
        "    autovalores, autovectores = np.linalg.eig(M)\n",
        "    \n",
        "    # Miramos si hay alguno mayor que 0, sacando una matriz inestable\n",
        "    estable = True\n",
        "    j = 0\n",
        "    while((estable == True)and(j < S)):\n",
        "      if(autovalores[j] > 0):\n",
        "        estable = False\n",
        "        contador += 1\n",
        "      j += 1\n",
        "    \n",
        "    \n",
        "  print('Para sigma = ' + str(sigma) + ' tenemos ' + str(contador) + ' matrices inestables.')\n",
        "  Compl_Pred_Cascada.extend([sigma*np.sqrt(S*C)])\n",
        "  P_Pred_Cascada.extend([1-(contador*1.0)/(N*1.0)])\n",
        "  sigma += paso\n",
        "\n",
        "crearArchivo('datos_PredCascada.dat')\n",
        "file = open('datos_PredCascada.dat', 'w', encoding='utf8')\n",
        "for i in range(len(Compl_Pred_Cascada)):\n",
        "  file.write(str(Compl_Pred_Cascada[i]) + ' ' + str(P_Pred_Cascada[i]) + '\\n')\n",
        "file.close()"
      ],
      "execution_count": null,
      "outputs": []
    },
    {
      "cell_type": "markdown",
      "metadata": {
        "id": "2f5S-GpYehwv"
      },
      "source": [
        "## Modelo de cascada de predador presa"
      ]
    },
    {
      "cell_type": "code",
      "metadata": {
        "id": "9MwdeSH_es8c"
      },
      "source": [
        "# Vamos a hacer la tercera funcion para generar una red predador presa con el modelo de cascada:\n",
        "def GenerarPredadorPresaCascade(S, d, C, media, sigma):\n",
        "  M = np.random.normal(loc = media, scale = sigma, size = (S, S))\n",
        "  for i in range(S):\n",
        "    j = 0\n",
        "    if(j>i):\n",
        "      M[i, j] = 0.0\n",
        "    else:\n",
        "        num = np.random.rand()\n",
        "        if(num > C):\n",
        "          M[i, j], M[j, i] = 0.0, 0.0\n",
        "        else:\n",
        "          M[i, j] = np.abs(M[i, j])\n",
        "          M[j, i] = -np.abs(M[j, i])\n",
        "    j += 1\n",
        "  for i in range(S):\n",
        "    M[i, i] = d\n",
        "  return M"
      ],
      "execution_count": null,
      "outputs": []
    },
    {
      "cell_type": "code",
      "metadata": {
        "id": "M35wKD7Ue5MJ",
        "colab": {
          "base_uri": "https://localhost:8080/"
        },
        "outputId": "85f244ed-0e93-4afc-e000-feac4ba7bd9e"
      },
      "source": [
        "# Ahora, podemos sacar la probabilidad de estabilidad para este tipo de red\n",
        "# Ahora, podemos hacer lo de sacar la probabilidad de estabilidad\n",
        "N = 1000\n",
        "S = 250\n",
        "C = 0.5\n",
        "sigma = 0.054\n",
        "paso = 0.001\n",
        "P_Pred_Cascada = [] # P es la lista de probabilidad de estabilidad\n",
        "Compl_Pred_Cascada = [] # Compl es la lista de complejidad\n",
        "while(sigma < 0.075):\n",
        "  contador = 0 # El contador nos dirá cuantas matrices inestables hay, es mas facil\n",
        "  # porque en el momento que hay un autovalor negativo  para de mirar los demas, lo cual\n",
        "  # puede acortar el proceso\n",
        "  for i in range(N):\n",
        "    # Construimos las matrices\n",
        "    M = GenerarPredadorPresaCascade(S, -1.0, C, 0.0, sigma)\n",
        "\n",
        "    # Sacamos los autovalores\n",
        "    autovalores, autovectores = np.linalg.eig(M)\n",
        "    \n",
        "    # Miramos si hay alguno mayor que 0, sacando una matriz inestable\n",
        "    estable = True\n",
        "    j = 0\n",
        "    while((estable == True)and(j < S)):\n",
        "      if(autovalores[j] > 0):\n",
        "        estable = False\n",
        "        contador += 1\n",
        "      j += 1\n",
        "    \n",
        "    \n",
        "  print('Para sigma = ' + str(sigma) + ' tenemos ' + str(contador) + ' matrices inestables.')\n",
        "  Compl_Pred_Cascada.extend([sigma*np.sqrt(S*C)])\n",
        "  P_Pred_Cascada.extend([1-(contador*1.0)/(N*1.0)])\n",
        "  sigma += paso\n",
        "\n",
        "crearArchivo('datos_PredCascada.dat')\n",
        "file = open('datos_PredCascada.dat', 'w', encoding='utf8')\n",
        "for i in range(len(Compl_Pred_Cascada)):\n",
        "  file.write(str(Compl_Pred_Cascada[i]) + ' ' + str(P_Pred_Cascada[i]) + '\\n')\n",
        "file.close()"
      ],
      "execution_count": null,
      "outputs": [
        {
          "output_type": "stream",
          "text": [
            "Para sigma = 0.054 tenemos 0 matrices inestables.\n",
            "Para sigma = 0.055 tenemos 0 matrices inestables.\n",
            "Para sigma = 0.056 tenemos 1 matrices inestables.\n",
            "Para sigma = 0.057 tenemos 5 matrices inestables.\n",
            "Para sigma = 0.058 tenemos 4 matrices inestables.\n",
            "Para sigma = 0.059000000000000004 tenemos 18 matrices inestables.\n",
            "Para sigma = 0.060000000000000005 tenemos 41 matrices inestables.\n",
            "Para sigma = 0.061000000000000006 tenemos 84 matrices inestables.\n",
            "Para sigma = 0.062000000000000006 tenemos 143 matrices inestables.\n",
            "Para sigma = 0.063 tenemos 236 matrices inestables.\n",
            "Para sigma = 0.064 tenemos 393 matrices inestables.\n",
            "Para sigma = 0.065 tenemos 557 matrices inestables.\n",
            "Para sigma = 0.066 tenemos 719 matrices inestables.\n",
            "Para sigma = 0.067 tenemos 862 matrices inestables.\n",
            "Para sigma = 0.068 tenemos 947 matrices inestables.\n",
            "Para sigma = 0.069 tenemos 984 matrices inestables.\n",
            "Para sigma = 0.07 tenemos 994 matrices inestables.\n",
            "Para sigma = 0.07100000000000001 tenemos 999 matrices inestables.\n",
            "Para sigma = 0.07200000000000001 tenemos 1000 matrices inestables.\n",
            "Para sigma = 0.07300000000000001 tenemos 1000 matrices inestables.\n",
            "Para sigma = 0.07400000000000001 tenemos 1000 matrices inestables.\n"
          ],
          "name": "stdout"
        }
      ]
    },
    {
      "cell_type": "markdown",
      "metadata": {
        "id": "qgShkfy4PxuN"
      },
      "source": [
        ""
      ]
    },
    {
      "cell_type": "markdown",
      "metadata": {
        "id": "MuEAF02QS3Ni"
      },
      "source": [
        "## Red Mixta entre mutualismo y competición (Gaussiana)"
      ]
    },
    {
      "cell_type": "markdown",
      "metadata": {
        "id": "Q6igboqMTIqK"
      },
      "source": [
        "Se va hacer esto mismo, para el caso mixto entre competición y mutualismo, para esto, también vamos a disntiguir entre el caso generados por una gaussiana y generados por una distribución uniforme, empezaremos por la gaussiana.\n",
        "\n",
        "Los parametros serán los mismos: 1000 matrices, S = 250, C = 0.5, d = -1.0, y empezaremos con media = 0. La sigma incial es 0.027, la final 0.089 y tendremos un paso de 0.002, dando lugar a 31 puntos."
      ]
    },
    {
      "cell_type": "code",
      "metadata": {
        "id": "zC02-DZDS7Xp"
      },
      "source": [
        "# Antes, definimos a función que genera una red de mutualismo combinada con competición.\n",
        "def GenerarMixtureGauss(S, d, C, media, sigma):\n",
        "  # En este caso, la distribucion de probabilidad es la uniforme\n",
        "  M = np.random.normal(loc = media, scale = sigma, size = (S, S))\n",
        "  for i in range(S):\n",
        "    for j in range(S):\n",
        "      num = np.random.rand()\n",
        "      if(i != j):\n",
        "        if(num > C):\n",
        "         M[i, j] = 0.0\n",
        "         M[j, i] = 0.0\n",
        "        else:\n",
        "          if(M[i, j]*M[j, i] < 0):\n",
        "            M[i, j] = (-1.0)*M[i, j]\n",
        "      else:\n",
        "        M[i, j] = d\n",
        "  \n",
        "  return M"
      ],
      "execution_count": null,
      "outputs": []
    },
    {
      "cell_type": "code",
      "metadata": {
        "id": "9jubNPKsVr59",
        "colab": {
          "base_uri": "https://localhost:8080/"
        },
        "outputId": "6233aa82-4713-4b4e-90ca-1d03561201ce"
      },
      "source": [
        "# Ahora, sacamos la probabilidad de estabilidad para el caso gaussiano\n",
        "# Ahora, podemos sacar la probabilidad de estabilidad para este tipo de red\n",
        "# Ahora, podemos hacer lo de sacar la probabilidad de estabilidad\n",
        "N = 1000\n",
        "S = 250\n",
        "C = 0.5\n",
        "sigma = 0.05\n",
        "paso = 0.001\n",
        "P_Mix_Gauss = [] # P es la lista de probabilidad de estabilidad\n",
        "Compl_Mix_Gauss = [] # Compl es la lista de complejidad\n",
        "while(sigma < 0.098):\n",
        "  contador = 0 # El contador nos dirá cuantas matrices inestables hay, es mas facil\n",
        "  # porque en el momento que hay un autovalor negativo  para de mirar los demas, lo cual\n",
        "  # puede acortar el proceso\n",
        "  for i in range(N):\n",
        "    # Construimos las matrices\n",
        "    M = GenerarMixtureGauss(S, -1.0, C, 0.0, sigma)\n",
        "\n",
        "    # Sacamos los autovalores\n",
        "    autovalores, autovectores = np.linalg.eig(M)\n",
        "    \n",
        "    # Miramos si hay alguno mayor que 0, sacando una matriz inestable\n",
        "    estable = True\n",
        "    j = 0\n",
        "    while((estable == True)and(j < S)):\n",
        "      if(autovalores[j] > 0):\n",
        "        estable = False\n",
        "        contador += 1\n",
        "      j += 1\n",
        "    \n",
        "    \n",
        "  print('Para sigma = ' + str(sigma) + ' tenemos ' + str(contador) + ' matrices inestables.')\n",
        "  Compl_Mix_Gauss.extend([sigma*np.sqrt(S*C)])\n",
        "  P_Mix_Gauss.extend([1-(contador*1.0)/(N*1.0)])\n",
        "  sigma += paso\n",
        "\n",
        "crearArchivo('datos_Mix_Gauss.dat')\n",
        "file = open('datos_MixGauss.dat', 'w', encoding='utf8')\n",
        "for i in range(len(Compl_Mix_Gauss)):\n",
        "  file.write(str(Compl_Mix_Gauss[i]) + ' ' + str(P_Mix_Gauss[i]) + '\\n')\n",
        "file.close()"
      ],
      "execution_count": null,
      "outputs": [
        {
          "output_type": "stream",
          "text": [
            "Para sigma = 0.05 tenemos 0 matrices inestables.\n",
            "Para sigma = 0.051000000000000004 tenemos 0 matrices inestables.\n",
            "Para sigma = 0.052000000000000005 tenemos 0 matrices inestables.\n",
            "Para sigma = 0.053000000000000005 tenemos 0 matrices inestables.\n",
            "Para sigma = 0.054000000000000006 tenemos 0 matrices inestables.\n",
            "Para sigma = 0.05500000000000001 tenemos 0 matrices inestables.\n",
            "Para sigma = 0.05600000000000001 tenemos 0 matrices inestables.\n",
            "Para sigma = 0.05700000000000001 tenemos 0 matrices inestables.\n",
            "Para sigma = 0.05800000000000001 tenemos 0 matrices inestables.\n",
            "Para sigma = 0.05900000000000001 tenemos 0 matrices inestables.\n",
            "Para sigma = 0.06000000000000001 tenemos 0 matrices inestables.\n",
            "Para sigma = 0.06100000000000001 tenemos 0 matrices inestables.\n",
            "Para sigma = 0.06200000000000001 tenemos 0 matrices inestables.\n",
            "Para sigma = 0.06300000000000001 tenemos 0 matrices inestables.\n",
            "Para sigma = 0.06400000000000002 tenemos 0 matrices inestables.\n",
            "Para sigma = 0.06500000000000002 tenemos 0 matrices inestables.\n",
            "Para sigma = 0.06600000000000002 tenemos 0 matrices inestables.\n",
            "Para sigma = 0.06700000000000002 tenemos 0 matrices inestables.\n",
            "Para sigma = 0.06800000000000002 tenemos 0 matrices inestables.\n",
            "Para sigma = 0.06900000000000002 tenemos 0 matrices inestables.\n",
            "Para sigma = 0.07000000000000002 tenemos 0 matrices inestables.\n",
            "Para sigma = 0.07100000000000002 tenemos 0 matrices inestables.\n",
            "Para sigma = 0.07200000000000002 tenemos 1 matrices inestables.\n",
            "Para sigma = 0.07300000000000002 tenemos 6 matrices inestables.\n",
            "Para sigma = 0.07400000000000002 tenemos 21 matrices inestables.\n",
            "Para sigma = 0.07500000000000002 tenemos 52 matrices inestables.\n",
            "Para sigma = 0.07600000000000003 tenemos 141 matrices inestables.\n",
            "Para sigma = 0.07700000000000003 tenemos 257 matrices inestables.\n",
            "Para sigma = 0.07800000000000003 tenemos 414 matrices inestables.\n",
            "Para sigma = 0.07900000000000003 tenemos 620 matrices inestables.\n",
            "Para sigma = 0.08000000000000003 tenemos 791 matrices inestables.\n",
            "Para sigma = 0.08100000000000003 tenemos 908 matrices inestables.\n",
            "Para sigma = 0.08200000000000003 tenemos 965 matrices inestables.\n",
            "Para sigma = 0.08300000000000003 tenemos 992 matrices inestables.\n",
            "Para sigma = 0.08400000000000003 tenemos 999 matrices inestables.\n",
            "Para sigma = 0.08500000000000003 tenemos 999 matrices inestables.\n",
            "Para sigma = 0.08600000000000003 tenemos 1000 matrices inestables.\n",
            "Para sigma = 0.08700000000000004 tenemos 1000 matrices inestables.\n",
            "Para sigma = 0.08800000000000004 tenemos 1000 matrices inestables.\n",
            "Para sigma = 0.08900000000000004 tenemos 1000 matrices inestables.\n",
            "Para sigma = 0.09000000000000004 tenemos 1000 matrices inestables.\n",
            "Para sigma = 0.09100000000000004 tenemos 1000 matrices inestables.\n",
            "Para sigma = 0.09200000000000004 tenemos 1000 matrices inestables.\n",
            "Para sigma = 0.09300000000000004 tenemos 1000 matrices inestables.\n",
            "Para sigma = 0.09400000000000004 tenemos 1000 matrices inestables.\n",
            "Para sigma = 0.09500000000000004 tenemos 1000 matrices inestables.\n",
            "Para sigma = 0.09600000000000004 tenemos 1000 matrices inestables.\n",
            "Para sigma = 0.09700000000000004 tenemos 1000 matrices inestables.\n"
          ],
          "name": "stdout"
        }
      ]
    },
    {
      "cell_type": "code",
      "metadata": {
        "colab": {
          "base_uri": "https://localhost:8080/"
        },
        "id": "L17rLTla4Gzr",
        "outputId": "348ceee6-2eaf-4bc8-83c8-de3b87c8fccd"
      },
      "source": [
        "Compl_Mix_Gauss"
      ],
      "execution_count": null,
      "outputs": [
        {
          "output_type": "execute_result",
          "data": {
            "text/plain": [
              "[]"
            ]
          },
          "metadata": {
            "tags": []
          },
          "execution_count": 17
        }
      ]
    },
    {
      "cell_type": "code",
      "metadata": {
        "colab": {
          "base_uri": "https://localhost:8080/",
          "height": 282
        },
        "id": "Hw6AuboYqLon",
        "outputId": "e002c5a7-d925-4498-807d-2faed11bdc29"
      },
      "source": [
        "plt.plot(Compl_Mix_Gauss, P_Mix_Gauss, 'bo')"
      ],
      "execution_count": null,
      "outputs": [
        {
          "output_type": "execute_result",
          "data": {
            "text/plain": [
              "[<matplotlib.lines.Line2D at 0x7f3785a1e1d0>]"
            ]
          },
          "metadata": {
            "tags": []
          },
          "execution_count": 11
        },
        {
          "output_type": "display_data",
          "data": {
            "image/png": "[encoded data removed]",
            "text/plain": [
              "<Figure size 432x288 with 1 Axes>"
            ]
          },
          "metadata": {
            "tags": [],
            "needs_background": "light"
          }
        }
      ]
    },
    {
      "cell_type": "markdown",
      "metadata": {
        "id": "eBYJc5a7XLOO"
      },
      "source": [
        "Ahora, lo hacemos para el caso uniforme:"
      ]
    },
    {
      "cell_type": "code",
      "metadata": {
        "id": "2f9vhXHSXJ74",
        "colab": {
          "base_uri": "https://localhost:8080/",
          "height": 637
        },
        "outputId": "571f0777-bd00-4b35-b897-8aa8cda13bf8"
      },
      "source": [
        "# Ahora, podemos sacar la probabilidad de estabilidad para este tipo de red\n",
        "# Ahora, podemos hacer lo de sacar la probabilidad de estabilidad\n",
        "N = 1000\n",
        "S = 250\n",
        "C = 0.5\n",
        "sigma = 0.027\n",
        "paso = 0.007\n",
        "P_Mix_Uni = [] # P es la lista de probabilidad de estabilidad\n",
        "Compl_Mix_Uni = [] # Compl es la lista de complejidad\n",
        "while(sigma < 0.189):\n",
        "  contador = 0 # El contador nos dirá cuantas matrices inestables hay, es mas facil\n",
        "  # porque en el momento que hay un autovalor negativo  para de mirar los demas, lo cual\n",
        "  # puede acortar el proceso\n",
        "  for i in range(N):\n",
        "    # Construimos las matrices\n",
        "    M = GenerarMixture(S, -1.0, C, 0.0, sigma)\n",
        "\n",
        "    # Sacamos los autovalores\n",
        "    autovalores, autovectores = np.linalg.eig(M)\n",
        "    \n",
        "    # Miramos si hay alguno mayor que 0, sacando una matriz inestable\n",
        "    estable = True\n",
        "    j = 0\n",
        "    while((estable == True)and(j < S)):\n",
        "      if(autovalores[j] > 0):\n",
        "        estable = False\n",
        "        contador += 1\n",
        "      j += 1\n",
        "    \n",
        "    \n",
        "  print('Para sigma = ' + str(sigma) + ' tenemos ' + str(contador) + ' matrices inestables.')\n",
        "  Compl_Mix_Uni.extend([sigma*np.sqrt(S*C)])\n",
        "  P_Mix_Uni.extend([1-(contador*1.0)/(N*1.0)])\n",
        "  sigma += paso\n",
        "\n",
        "crearArchivo('datos_Mix_Uni.dat')\n",
        "file = open('datos_Mix_Uni.dat', 'w', encoding='utf8')\n",
        "for i in range(len(Compl_Mix_Uni)):\n",
        "  file.write(str(Compl_Mix_Uni[i]) + ' ' + str(P_Mix_Uni[i]) + '\\n')\n",
        "file.close()"
      ],
      "execution_count": null,
      "outputs": [
        {
          "output_type": "stream",
          "text": [
            "Para sigma = 0.027 tenemos 0 matrices inestables.\n",
            "Para sigma = 0.034 tenemos 0 matrices inestables.\n",
            "Para sigma = 0.041 tenemos 0 matrices inestables.\n",
            "Para sigma = 0.048 tenemos 0 matrices inestables.\n",
            "Para sigma = 0.055 tenemos 0 matrices inestables.\n",
            "Para sigma = 0.062 tenemos 0 matrices inestables.\n",
            "Para sigma = 0.069 tenemos 0 matrices inestables.\n",
            "Para sigma = 0.07600000000000001 tenemos 0 matrices inestables.\n",
            "Para sigma = 0.08300000000000002 tenemos 0 matrices inestables.\n",
            "Para sigma = 0.09000000000000002 tenemos 0 matrices inestables.\n",
            "Para sigma = 0.09700000000000003 tenemos 0 matrices inestables.\n",
            "Para sigma = 0.10400000000000004 tenemos 53 matrices inestables.\n",
            "Para sigma = 0.11100000000000004 tenemos 792 matrices inestables.\n",
            "Para sigma = 0.11800000000000005 tenemos 1000 matrices inestables.\n",
            "Para sigma = 0.12500000000000006 tenemos 1000 matrices inestables.\n",
            "Para sigma = 0.13200000000000006 tenemos 1000 matrices inestables.\n"
          ],
          "name": "stdout"
        },
        {
          "output_type": "error",
          "ename": "KeyboardInterrupt",
          "evalue": "ignored",
          "traceback": [
            "\u001b[0;31m---------------------------------------------------------------------------\u001b[0m",
            "\u001b[0;31mKeyboardInterrupt\u001b[0m                         Traceback (most recent call last)",
            "\u001b[0;32m<ipython-input-5-d4313e0096af>\u001b[0m in \u001b[0;36m<module>\u001b[0;34m()\u001b[0m\n\u001b[1;32m     14\u001b[0m   \u001b[0;32mfor\u001b[0m \u001b[0mi\u001b[0m \u001b[0;32min\u001b[0m \u001b[0mrange\u001b[0m\u001b[0;34m(\u001b[0m\u001b[0mN\u001b[0m\u001b[0;34m)\u001b[0m\u001b[0;34m:\u001b[0m\u001b[0;34m\u001b[0m\u001b[0;34m\u001b[0m\u001b[0m\n\u001b[1;32m     15\u001b[0m     \u001b[0;31m# Construimos las matrices\u001b[0m\u001b[0;34m\u001b[0m\u001b[0;34m\u001b[0m\u001b[0;34m\u001b[0m\u001b[0m\n\u001b[0;32m---> 16\u001b[0;31m     \u001b[0mM\u001b[0m \u001b[0;34m=\u001b[0m \u001b[0mGenerarMixture\u001b[0m\u001b[0;34m(\u001b[0m\u001b[0mS\u001b[0m\u001b[0;34m,\u001b[0m \u001b[0;34m-\u001b[0m\u001b[0;36m1.0\u001b[0m\u001b[0;34m,\u001b[0m \u001b[0mC\u001b[0m\u001b[0;34m,\u001b[0m \u001b[0;36m0.0\u001b[0m\u001b[0;34m,\u001b[0m \u001b[0msigma\u001b[0m\u001b[0;34m)\u001b[0m\u001b[0;34m\u001b[0m\u001b[0;34m\u001b[0m\u001b[0m\n\u001b[0m\u001b[1;32m     17\u001b[0m \u001b[0;34m\u001b[0m\u001b[0m\n\u001b[1;32m     18\u001b[0m     \u001b[0;31m# Sacamos los autovalores\u001b[0m\u001b[0;34m\u001b[0m\u001b[0;34m\u001b[0m\u001b[0;34m\u001b[0m\u001b[0m\n",
            "\u001b[0;32m<ipython-input-3-f105ff9aae94>\u001b[0m in \u001b[0;36mGenerarMixture\u001b[0;34m(S, d, C, media, sigma)\u001b[0m\n\u001b[1;32m     12\u001b[0m          \u001b[0mM\u001b[0m\u001b[0;34m[\u001b[0m\u001b[0mj\u001b[0m\u001b[0;34m,\u001b[0m \u001b[0mi\u001b[0m\u001b[0;34m]\u001b[0m \u001b[0;34m=\u001b[0m \u001b[0;36m0.0\u001b[0m\u001b[0;34m\u001b[0m\u001b[0;34m\u001b[0m\u001b[0m\n\u001b[1;32m     13\u001b[0m         \u001b[0;32melse\u001b[0m\u001b[0;34m:\u001b[0m\u001b[0;34m\u001b[0m\u001b[0;34m\u001b[0m\u001b[0m\n\u001b[0;32m---> 14\u001b[0;31m           \u001b[0;32mif\u001b[0m\u001b[0;34m(\u001b[0m\u001b[0mM\u001b[0m\u001b[0;34m[\u001b[0m\u001b[0mi\u001b[0m\u001b[0;34m,\u001b[0m \u001b[0mj\u001b[0m\u001b[0;34m]\u001b[0m\u001b[0;34m*\u001b[0m\u001b[0mM\u001b[0m\u001b[0;34m[\u001b[0m\u001b[0mj\u001b[0m\u001b[0;34m,\u001b[0m \u001b[0mi\u001b[0m\u001b[0;34m]\u001b[0m \u001b[0;34m<\u001b[0m \u001b[0;36m0\u001b[0m\u001b[0;34m)\u001b[0m\u001b[0;34m:\u001b[0m\u001b[0;34m\u001b[0m\u001b[0;34m\u001b[0m\u001b[0m\n\u001b[0m\u001b[1;32m     15\u001b[0m             \u001b[0mM\u001b[0m\u001b[0;34m[\u001b[0m\u001b[0mi\u001b[0m\u001b[0;34m,\u001b[0m \u001b[0mj\u001b[0m\u001b[0;34m]\u001b[0m \u001b[0;34m=\u001b[0m \u001b[0;34m(\u001b[0m\u001b[0;34m-\u001b[0m\u001b[0;36m1.0\u001b[0m\u001b[0;34m)\u001b[0m\u001b[0;34m*\u001b[0m\u001b[0mM\u001b[0m\u001b[0;34m[\u001b[0m\u001b[0mi\u001b[0m\u001b[0;34m,\u001b[0m \u001b[0mj\u001b[0m\u001b[0;34m]\u001b[0m\u001b[0;34m\u001b[0m\u001b[0;34m\u001b[0m\u001b[0m\n\u001b[1;32m     16\u001b[0m       \u001b[0;32melse\u001b[0m\u001b[0;34m:\u001b[0m\u001b[0;34m\u001b[0m\u001b[0;34m\u001b[0m\u001b[0m\n",
            "\u001b[0;31mKeyboardInterrupt\u001b[0m: "
          ]
        }
      ]
    },
    {
      "cell_type": "code",
      "metadata": {
        "id": "lZhi7K5C-Xi3"
      },
      "source": [
        "crearArchivo('datos_Mix_Uni.dat')\n",
        "file = open('datos_Mix_Uni.dat', 'w', encoding='utf8')\n",
        "for i in range(len(Compl_Mix_Uni)):\n",
        "  file.write(str(Compl_Mix_Uni[i]) + ' ' + str(P_Mix_Uni[i]) + '\\n')\n",
        "file.close()"
      ],
      "execution_count": null,
      "outputs": []
    },
    {
      "cell_type": "markdown",
      "metadata": {
        "id": "iLvRNfgXfGyr"
      },
      "source": [
        "## Ecosistema mixto entre competición y mutualismo sin interacciones débiles"
      ]
    },
    {
      "cell_type": "code",
      "metadata": {
        "id": "GwlyodI-fMqS"
      },
      "source": [
        "# Antes, definimos a función que genera una red de mutualismo combinada con competición.\n",
        "def GenerarMixtureGauss(S, d, C, media, sigma):\n",
        "  # En este caso, la distribucion de probabilidad es la uniforme\n",
        "  M = np.random.normal(loc = media, scale = sigma, size = (S, S))\n",
        "  for i in range(S):\n",
        "    for j in range(S):\n",
        "      num = np.random.rand()\n",
        "      if(i != j):\n",
        "        if(num > C):\n",
        "         M[i, j] = 0.0\n",
        "         M[j, i] = 0.0\n",
        "        else:\n",
        "          if(M[i, j]*M[j, i] < 0):\n",
        "            M[i, j] = (-1.0)*M[i, j]\n",
        "      else:\n",
        "        M[i, j] = d\n",
        "  \n",
        "  return M"
      ],
      "execution_count": null,
      "outputs": []
    },
    {
      "cell_type": "code",
      "metadata": {
        "id": "Qo34J3pifN2S"
      },
      "source": [
        "# Ahora, sacamos la probabilidad de estabilidad para el caso gaussiano\n",
        "# Ahora, podemos sacar la probabilidad de estabilidad para este tipo de red\n",
        "# Ahora, podemos hacer lo de sacar la probabilidad de estabilidad\n",
        "N = 1000\n",
        "S = 250\n",
        "C = 0.5\n",
        "sigma = 0.05\n",
        "paso = 0.001\n",
        "P_Mix_Gauss = [] # P es la lista de probabilidad de estabilidad\n",
        "Compl_Mix_Gauss = [] # Compl es la lista de complejidad\n",
        "while(sigma < 0.098):\n",
        "  contador = 0 # El contador nos dirá cuantas matrices inestables hay, es mas facil\n",
        "  # porque en el momento que hay un autovalor negativo  para de mirar los demas, lo cual\n",
        "  # puede acortar el proceso\n",
        "  for i in range(N):\n",
        "    # Construimos las matrices\n",
        "    M = GenerarMixtureGauss(S, -1.0, C, sigma, sigma)\n",
        "\n",
        "    # Sacamos los autovalores\n",
        "    autovalores, autovectores = np.linalg.eig(M)\n",
        "    \n",
        "    # Miramos si hay alguno mayor que 0, sacando una matriz inestable\n",
        "    estable = True\n",
        "    j = 0\n",
        "    while((estable == True)and(j < S)):\n",
        "      if(autovalores[j] > 0):\n",
        "        estable = False\n",
        "        contador += 1\n",
        "      j += 1\n",
        "    \n",
        "    \n",
        "  print('Para sigma = ' + str(sigma) + ' tenemos ' + str(contador) + ' matrices inestables.')\n",
        "  Compl_Mix_Gauss.extend([sigma*np.sqrt(S*C)])\n",
        "  P_Mix_Gauss.extend([1-(contador*1.0)/(N*1.0)])\n",
        "  sigma += paso\n",
        "\n",
        "crearArchivo('datos_Mix_Gauss_nodeb.dat')\n",
        "file = open('datos_MixGauss_nodeb.dat', 'w', encoding='utf8')\n",
        "for i in range(len(Compl_Mix_Gauss)):\n",
        "  file.write(str(Compl_Mix_Gauss[i]) + ' ' + str(P_Mix_Gauss[i]) + '\\n')\n",
        "file.close()"
      ],
      "execution_count": null,
      "outputs": []
    },
    {
      "cell_type": "markdown",
      "metadata": {
        "id": "ffVagzLCla6d"
      },
      "source": [
        "## Mixture entre mutualismo y competición (Uniforme)"
      ]
    },
    {
      "cell_type": "code",
      "metadata": {
        "id": "rKmDbMNilen7"
      },
      "source": [
        "def GenerarMixture(S, d, C, media, sigma):\n",
        "  # En este caso, la distribucion de probabilidad es la uniforme\n",
        "  a = media - np.sqrt(3.0)*sigma\n",
        "  b = media + np.sqrt(3.0)*sigma\n",
        "  M = a*np.random.rand(S, S) + b*np.random.rand(S, S)\n",
        "  for i in range(S):\n",
        "    for j in range(S):\n",
        "      num = np.random.rand()\n",
        "      if(i != j):\n",
        "        if(num > C):\n",
        "         M[i, j] = 0.0\n",
        "         M[j, i] = 0.0\n",
        "        else:\n",
        "          if(M[i, j]*M[j, i] < 0):\n",
        "            M[i, j] = (-1.0)*M[i, j]\n",
        "      else:\n",
        "        M[i, j] = d\n",
        "  \n",
        "  return M"
      ],
      "execution_count": null,
      "outputs": []
    },
    {
      "cell_type": "code",
      "metadata": {
        "id": "svHZUza9lpkM"
      },
      "source": [
        "# Ahora, podemos sacar la probabilidad de estabilidad para este tipo de red\n",
        "# Ahora, podemos hacer lo de sacar la probabilidad de estabilidad\n",
        "N = 1000\n",
        "S = 250\n",
        "C = 0.5\n",
        "sigma = 0.027\n",
        "paso = 0.007\n",
        "P_Mix_Uni = [] # P es la lista de probabilidad de estabilidad\n",
        "Compl_Mix_Uni = [] # Compl es la lista de complejidad\n",
        "while(sigma < 0.089):\n",
        "  contador = 0 # El contador nos dirá cuantas matrices inestables hay, es mas facil\n",
        "  # porque en el momento que hay un autovalor negativo  para de mirar los demas, lo cual\n",
        "  # puede acortar el proceso\n",
        "  for i in range(N):\n",
        "    # Construimos las matrices\n",
        "    M = GenerarMixture(S, -1.0, C, 0.0, sigma)\n",
        "\n",
        "    # Sacamos los autovalores\n",
        "    autovalores, autovectores = np.linalg.eig(M)\n",
        "    \n",
        "    # Miramos si hay alguno mayor que 0, sacando una matriz inestable\n",
        "    estable = True\n",
        "    j = 0\n",
        "    while((estable == True)and(j < S)):\n",
        "      if(autovalores[j] > 0):\n",
        "        estable = False\n",
        "        contador += 1\n",
        "      j += 1\n",
        "    \n",
        "    \n",
        "  print('Para sigma = ' + str(sigma) + ' tenemos ' + str(contador) + ' matrices inestables.')\n",
        "  Compl_Mix_Uni.extend([sigma*np.sqrt(S*C)])\n",
        "  P_Mix_Uni.extend([1-(contador*1.0)/(N*1.0)])\n",
        "  sigma += paso\n",
        "\n",
        "crearArchivo('datos_Mix_Uni.dat')\n",
        "for i in range(len(Compl_Mix_Uni)):\n",
        "  file.write(str(Compl_Mix_Uni[i]) + ' ' + str(P_Mix_Uni[i]) + '\\n')\n",
        "file.close()"
      ],
      "execution_count": null,
      "outputs": []
    },
    {
      "cell_type": "markdown",
      "metadata": {
        "id": "Sjns5-b5x_CR"
      },
      "source": [
        "# Obtención de la relación de S y C para el límite de estabilidad, Ley de potencias"
      ]
    },
    {
      "cell_type": "markdown",
      "metadata": {
        "id": "9S9ZbA8nyVf8"
      },
      "source": [
        "Para obtener esto, se va a hacer lo siguiente:\n",
        "\n",
        "- Damos un S inicial\n",
        "  - Damos un C inicial (S = 5)\n",
        "  -Generamos 1000 matrices aleatorias con los parámetros S, C, $\\mu = 0$, $\\sigma = 0.25$ y $d = 1.0$.\n",
        "  -Sacamos la probabilidad de estabilidad para estos parámetros.\n",
        "  -Según el valor de P, tenemos dos opciones:\n",
        "    1. Si P>0.5, entonces C = C +0.005 y se vuelven a generar 1000 matrices para obtener la probabilidad de estabilidad.\n",
        "    2. Si P < 0.5, entonces guardamos estos valores de C y S para el primer valor de C, damos S = S + 5 y volvemos a empezar con otro S.\n",
        "- Así hasta S = 1000."
      ]
    },
    {
      "cell_type": "markdown",
      "metadata": {
        "id": "jMe6wfty5O_a"
      },
      "source": [
        "## Caso de ecosistema random"
      ]
    },
    {
      "cell_type": "code",
      "metadata": {
        "colab": {
          "base_uri": "https://localhost:8080/"
        },
        "id": "fAlh-5r8w8NY",
        "outputId": "bf2a7b75-3d93-4c50-9ff7-693ecd4537ab"
      },
      "source": [
        "#Iremos de S = 100 a S = 1000\n",
        "S = 1000\n",
        "N = 1000\n",
        "pasoC = 0.001\n",
        "pasoS = 50\n",
        "tamano, conectividad = [], []\n",
        "while(S < 1001):\n",
        "  C = 0.015\n",
        "  P = 1.0\n",
        "  while(P > 0.5):\n",
        "    # Generamos 1000 matrices para estos parámetros y sacamos su estabilidad\n",
        "    contador = 0 # El contador cuenta las matrices que salen inestables\n",
        "    for j in range(N):\n",
        "      M = GenerarMRandomGauss(S, -1.0, C, 0.0, 0.25)\n",
        "      # Sacamos los autovalores de la matriz\n",
        "      autovalores, autovectores = np.linalg.eig(M)\n",
        "      # Miramos si la matriz es estable\n",
        "      EsEstable = True\n",
        "      i = 0\n",
        "      while((EsEstable == True) and (i < S)):\n",
        "        if(autovalores[i] > 0.0):\n",
        "          EsEstable = False\n",
        "          contador += 1\n",
        "        else:\n",
        "          i += 1\n",
        "    \n",
        "    # Ya podemos sacar la probabilidad de establidad para estos parámetros:\n",
        "    P = 1 - (contador*1.0)/(N*1.0)\n",
        "    print(str(P) + ' ' + str(C))\n",
        "    C += pasoC\n",
        "  \n",
        "  conectividad.extend([C])\n",
        "  tamano.extend([S])\n",
        "  print('Para un tamaño ' + str(S) + ' tenemos una conectividad ' + str(C))\n",
        "  print(P)\n",
        "  S += pasoS\n",
        "\n",
        "crearArchivo('Power_Law.dat')\n",
        "file = open('Power_Law.dat', 'w', encoding='utf8')\n",
        "for i in range(len(tamano)):\n",
        "  file.write(str(tamano[i]) + ' ' + str(conectividad[i]) + '\\n')\n",
        "file.close()\n"
      ],
      "execution_count": null,
      "outputs": [
        {
          "output_type": "stream",
          "text": [
            "0.943 0.015\n",
            "0.621 0.016\n",
            "0.06399999999999995 0.017\n",
            "Para un tamaño 1000 tenemos una conectividad 0.018000000000000002\n",
            "0.06399999999999995\n"
          ],
          "name": "stdout"
        }
      ]
    },
    {
      "cell_type": "markdown",
      "metadata": {
        "id": "DPuozwxSUK63"
      },
      "source": [
        "Vamos a hacer el ajuste lineal de la Ley de potencias para obtener el exponente"
      ]
    },
    {
      "cell_type": "code",
      "metadata": {
        "id": "rqd2nUuhWAnY",
        "colab": {
          "base_uri": "https://localhost:8080/",
          "height": 237
        },
        "outputId": "00a540ea-dc3a-49f0-e1d3-3fd339d66549"
      },
      "source": [
        "# Hacemos el ajuste de esto, deberia salir alfa = 1\n",
        "from pylab import *\n",
        "x = np.log(tamano)\n",
        "y = np.log(conectividad)\n",
        "m,b = polyfit(x, y, 1)"
      ],
      "execution_count": null,
      "outputs": [
        {
          "output_type": "error",
          "ename": "NameError",
          "evalue": "ignored",
          "traceback": [
            "\u001b[0;31m---------------------------------------------------------------------------\u001b[0m",
            "\u001b[0;31mNameError\u001b[0m                                 Traceback (most recent call last)",
            "\u001b[0;32m<ipython-input-8-b29c344afd6d>\u001b[0m in \u001b[0;36m<module>\u001b[0;34m()\u001b[0m\n\u001b[1;32m      1\u001b[0m \u001b[0;31m# HAcemos el ajuste de esto, deberia salir alfa = 1\u001b[0m\u001b[0;34m\u001b[0m\u001b[0;34m\u001b[0m\u001b[0;34m\u001b[0m\u001b[0m\n\u001b[1;32m      2\u001b[0m \u001b[0;32mfrom\u001b[0m \u001b[0mpylab\u001b[0m \u001b[0;32mimport\u001b[0m \u001b[0;34m*\u001b[0m\u001b[0;34m\u001b[0m\u001b[0;34m\u001b[0m\u001b[0m\n\u001b[0;32m----> 3\u001b[0;31m \u001b[0mx\u001b[0m \u001b[0;34m=\u001b[0m \u001b[0mnp\u001b[0m\u001b[0;34m.\u001b[0m\u001b[0mlog\u001b[0m\u001b[0;34m(\u001b[0m\u001b[0mtamano\u001b[0m\u001b[0;34m)\u001b[0m\u001b[0;34m\u001b[0m\u001b[0;34m\u001b[0m\u001b[0m\n\u001b[0m\u001b[1;32m      4\u001b[0m \u001b[0my\u001b[0m \u001b[0;34m=\u001b[0m \u001b[0mnp\u001b[0m\u001b[0;34m.\u001b[0m\u001b[0mlog\u001b[0m\u001b[0;34m(\u001b[0m\u001b[0mconectividad\u001b[0m\u001b[0;34m)\u001b[0m\u001b[0;34m\u001b[0m\u001b[0;34m\u001b[0m\u001b[0m\n\u001b[1;32m      5\u001b[0m \u001b[0mm\u001b[0m\u001b[0;34m,\u001b[0m\u001b[0mb\u001b[0m \u001b[0;34m=\u001b[0m \u001b[0mpolyfit\u001b[0m\u001b[0;34m(\u001b[0m\u001b[0mx\u001b[0m\u001b[0;34m,\u001b[0m \u001b[0my\u001b[0m\u001b[0;34m,\u001b[0m \u001b[0;36m1\u001b[0m\u001b[0;34m)\u001b[0m\u001b[0;34m\u001b[0m\u001b[0;34m\u001b[0m\u001b[0m\n",
            "\u001b[0;31mNameError\u001b[0m: name 'tamano' is not defined"
          ]
        }
      ]
    },
    {
      "cell_type": "code",
      "metadata": {
        "colab": {
          "base_uri": "https://localhost:8080/",
          "height": 300
        },
        "id": "mz_9m4WLWtw9",
        "outputId": "6a90f43f-64fc-4099-f7b9-3d11e93c627c"
      },
      "source": [
        "plot(x, y, 'yo', x, m*x+b, '--k') "
      ],
      "execution_count": null,
      "outputs": [
        {
          "output_type": "execute_result",
          "data": {
            "text/plain": [
              "[<matplotlib.lines.Line2D at 0x7f46349ac1d0>,\n",
              " <matplotlib.lines.Line2D at 0x7f46349acf90>]"
            ]
          },
          "metadata": {
            "tags": []
          },
          "execution_count": 19
        },
        {
          "output_type": "display_data",
          "data": {
            "image/png": "[encoded data removed]",
            "text/plain": [
              "<Figure size 432x288 with 1 Axes>"
            ]
          },
          "metadata": {
            "tags": [],
            "needs_background": "light"
          }
        }
      ]
    },
    {
      "cell_type": "code",
      "metadata": {
        "id": "DABi1w05W6G7",
        "colab": {
          "base_uri": "https://localhost:8080/",
          "height": 282
        },
        "outputId": "9ff2002c-e6a4-42a2-c6e6-f02112d74805"
      },
      "source": [
        "# Escribimos los vectores de los resultados para luego hacer el ajuste\n",
        "x_random = [100, 150, 200, 250, 300, 350, 400, 450, 500, 550, 600, 650, 700, 750, 800, 850, 900, 950, 1000] \n",
        "y_random = [0.185, 0.12, 0.09, 0.075, 0.065, 0.055, 0.05, 0.045, 0.04, 0.03, 0.03, 0.025, 0.024, 0.022, 0.022, 0.02, 0.018, 0.017, 0.0165]\n",
        "plt.plot(np.log(x_random), np.log(y_random))"
      ],
      "execution_count": null,
      "outputs": [
        {
          "output_type": "execute_result",
          "data": {
            "text/plain": [
              "[<matplotlib.lines.Line2D at 0x7f93ab81d350>]"
            ]
          },
          "metadata": {
            "tags": []
          },
          "execution_count": 18
        },
        {
          "output_type": "display_data",
          "data": {
            "image/png": "[encoded data removed]",
            "text/plain": [
              "<Figure size 432x288 with 1 Axes>"
            ]
          },
          "metadata": {
            "tags": [],
            "needs_background": "light"
          }
        }
      ]
    },
    {
      "cell_type": "code",
      "metadata": {
        "colab": {
          "base_uri": "https://localhost:8080/",
          "height": 282
        },
        "id": "XYlfx3Kq1z2T",
        "outputId": "78281a60-3627-45c6-e6fc-933ba61fec49"
      },
      "source": [
        "plt.plot(x_random, y_random)"
      ],
      "execution_count": null,
      "outputs": [
        {
          "output_type": "execute_result",
          "data": {
            "text/plain": [
              "[<matplotlib.lines.Line2D at 0x7f93ab74e050>]"
            ]
          },
          "metadata": {
            "tags": []
          },
          "execution_count": 26
        },
        {
          "output_type": "display_data",
          "data": {
            "image/png": "[encoded data removed]",
            "text/plain": [
              "<Figure size 432x288 with 1 Axes>"
            ]
          },
          "metadata": {
            "tags": [],
            "needs_background": "light"
          }
        }
      ]
    },
    {
      "cell_type": "code",
      "metadata": {
        "id": "KSoiN3SsYcbt"
      },
      "source": [
        "# Hacemos el ajuste\n",
        "from pylab import *\n",
        "m_random,b_random = polyfit(np.log(x_random), np.log(y_random), 1)"
      ],
      "execution_count": null,
      "outputs": []
    },
    {
      "cell_type": "code",
      "metadata": {
        "colab": {
          "base_uri": "https://localhost:8080/"
        },
        "id": "EOMYHXLiYq8L",
        "outputId": "8becfdf3-5495-4a93-d31b-0e3ba5ede5cc"
      },
      "source": [
        "m_random, b_random"
      ],
      "execution_count": null,
      "outputs": [
        {
          "output_type": "execute_result",
          "data": {
            "text/plain": [
              "(-1.0654978066774627, 3.2829716172422017)"
            ]
          },
          "metadata": {
            "tags": []
          },
          "execution_count": 22
        }
      ]
    },
    {
      "cell_type": "code",
      "metadata": {
        "colab": {
          "base_uri": "https://localhost:8080/",
          "height": 304
        },
        "id": "afVr2QkxYr0N",
        "outputId": "fb98ded4-c6fc-4b9b-b7e6-00794a2cd5eb"
      },
      "source": [
        "plt.plot(np.log(x_random), np.log(y_random), 'yo', np.log(x_random), m*np.log(x_random)+b, '--k') "
      ],
      "execution_count": null,
      "outputs": [
        {
          "output_type": "execute_result",
          "data": {
            "text/plain": [
              "[<matplotlib.lines.Line2D at 0x7f93ab68f610>,\n",
              " <matplotlib.lines.Line2D at 0x7f93ab68f810>]"
            ]
          },
          "metadata": {
            "tags": []
          },
          "execution_count": 25
        },
        {
          "output_type": "display_data",
          "data": {
            "image/png": "[encoded data removed]",
            "text/plain": [
              "<Figure size 432x288 with 1 Axes>"
            ]
          },
          "metadata": {
            "tags": [],
            "needs_background": "light"
          }
        }
      ]
    },
    {
      "cell_type": "code",
      "metadata": {
        "id": "AIfsEog629kv"
      },
      "source": [
        "# Vamos a pasar todos estos datos a un fichero para que sea más fácil el manejo y demás\n",
        "crearArchivo('Power_Law_random.dat')\n",
        "file = open('Power_Law_random.dat', 'w', encoding='utf8')\n",
        "file.write('#(eje x)S(tamaño del sistema) (eje y)C(conectividad maxima que permite el sistema)  log(S)  log(C)' + '\\n')\n",
        "for i in range(len(x_random)):\n",
        "  file.write(str(x_random[i]) + ' ' + str(y_random[i]) +  ' ' + str(np.log(x_random[i])) + ' ' + str(np.log(y_random[i])) + '\\n')\n",
        "file.close()"
      ],
      "execution_count": null,
      "outputs": []
    },
    {
      "cell_type": "markdown",
      "metadata": {
        "id": "xjuVovWHT18_"
      },
      "source": [
        "## Caso de ecosistema predador-presa"
      ]
    },
    {
      "cell_type": "markdown",
      "metadata": {
        "id": "Jp8LaOLp2Ipx"
      },
      "source": [
        "En este caso, se ha sacado de la misma manera que antes, pero generando una red predador-presa, luego se ha obtenido el ajuste de la Ley de potencias."
      ]
    },
    {
      "cell_type": "code",
      "metadata": {
        "id": "xiacq3362HEJ"
      },
      "source": [
        "#Predador-presa para el caso gausiano, iremos de S = 100 a S = 1000\n",
        "S = 100\n",
        "N = 1000\n",
        "pasoC = 0.005\n",
        "pasoS = 50\n",
        "tamano, conectividad = [], []\n",
        "while(S < 1000):\n",
        "  C = 0.005\n",
        "  P = 1.0\n",
        "  while(P > 0.5):\n",
        "    # Generamos 1000 matrices para estos parámetros y sacamos su estabilidad\n",
        "    contador = 0 # El contador cuenta las matrices que salen inestables\n",
        "    for j in range(N):\n",
        "      M = GenerarPredadorPresaGauss(S, -1.0, C, 0.0, 0.25)\n",
        "      # Sacamos los autovalores de la matriz\n",
        "      autovalores, autovectores = np.linalg.eig(M)\n",
        "      # Miramos si la matriz es estable\n",
        "      EsEstable = True\n",
        "      i = 0\n",
        "      while((EsEstable == True) and (i < S)):\n",
        "        if(autovalores[i] > 0.0):\n",
        "          EsEstable = False\n",
        "          contador += 1\n",
        "        else:\n",
        "          i += 1\n",
        "    \n",
        "    # Ya podemos sacar la probabilidad de establidad para estos parámetros:\n",
        "    P = 1 - (contador*1.0)/(N*1.0)\n",
        "    print(str(P) + ' ' + str(C))\n",
        "    C += pasoC\n",
        "  \n",
        "  conectividad.extend([C])\n",
        "  tamano.extend([S])\n",
        "  print('Para un tamaño ' + str(S) + ' tenemos una conectividad ' + str(C))\n",
        "  print(P)\n",
        "  S += pasoS\n",
        "\n",
        "crearArchivo('Power_Law_PP_Gauss.dat')\n",
        "file = open('Power_Law_PP_Gauss.dat', 'w', encoding='utf8')\n",
        "for i in range(len(tamano)):\n",
        "  file.write(str(tamano[i]) + ' ' + str(conectividad[i]) + '\\n')\n",
        "file.close()"
      ],
      "execution_count": null,
      "outputs": []
    },
    {
      "cell_type": "code",
      "metadata": {
        "id": "C3ZZIaKY2obo"
      },
      "source": [
        "# Como se han obtenido los datos poco a poco, se han definido los vectores de resultados tal cual\n",
        "x_Pred = [300, 350, 400, 450, 500, 550, 600, 650, 700, 750, 800, 850, 900, 950, 1000]\n",
        "y_Pred = [0.645, 0.59, 0.55, 0.52, 0.49, 0.47, 0.45, 0.43, 0.415, 0.4, 0.385, 0.378, 0.365, 0.355, 0.348]"
      ],
      "execution_count": null,
      "outputs": []
    },
    {
      "cell_type": "code",
      "metadata": {
        "id": "hjpjuHNKHxbs"
      },
      "source": [
        "plt.plot(x_Pred, y_Pred)"
      ],
      "execution_count": null,
      "outputs": []
    },
    {
      "cell_type": "code",
      "metadata": {
        "colab": {
          "base_uri": "https://localhost:8080/"
        },
        "id": "tmYIVCW2IlFq",
        "outputId": "386668ec-821c-4b2c-c0ff-495bc39c7bdd"
      },
      "source": [
        "# Hacemos el ajuste\n",
        "from pylab import *\n",
        "m_Pred,b_Pred = polyfit(np.log(x_Pred), np.log(y_Pred), 1)\n",
        "m_Pred, b_Pred"
      ],
      "execution_count": null,
      "outputs": [
        {
          "output_type": "execute_result",
          "data": {
            "text/plain": [
              "(-0.5737235342623382, 1.1657550938808883)"
            ]
          },
          "metadata": {
            "tags": []
          },
          "execution_count": 12
        }
      ]
    },
    {
      "cell_type": "code",
      "metadata": {
        "colab": {
          "base_uri": "https://localhost:8080/",
          "height": 300
        },
        "id": "r03n0lYYIuKj",
        "outputId": "60a7014c-31ba-4364-e01b-a10b9b547d53"
      },
      "source": [
        "# Representamos la ley de potencias logaritmica\n",
        "plt.plot(np.log(x_Pred), np.log(y_Pred), 'yo', np.log(x_Pred), m_Pred*np.log(x_Pred)+b_Pred, '--k') "
      ],
      "execution_count": null,
      "outputs": [
        {
          "output_type": "execute_result",
          "data": {
            "text/plain": [
              "[<matplotlib.lines.Line2D at 0x7fd8875493d0>,\n",
              " <matplotlib.lines.Line2D at 0x7fd887549550>]"
            ]
          },
          "metadata": {
            "tags": []
          },
          "execution_count": 15
        },
        {
          "output_type": "display_data",
          "data": {
            "image/png": "[encoded data removed]",
            "text/plain": [
              "<Figure size 432x288 with 1 Axes>"
            ]
          },
          "metadata": {
            "tags": [],
            "needs_background": "light"
          }
        }
      ]
    },
    {
      "cell_type": "code",
      "metadata": {
        "id": "0KClUxTFI12Q"
      },
      "source": [
        "# Lo pasamos todo a un fichero para tenerlo todo más facilito\n",
        "# Vamos a pasar todos estos datos a un fichero para que sea más fácil el manejo y demás\n",
        "crearArchivo('Power_Law_PredadorPresa.dat')\n",
        "file = open('Power_Law_PredadorPresa.dat', 'w', encoding='utf8')\n",
        "file.write('#(eje x)S(tamaño del sistema) (eje y)C(conectividad maxima que permite el sistema)  log(S)  log(C)' + '\\n')\n",
        "for i in range(len(x_Pred)):\n",
        "  file.write(str(x_Pred[i]) + ' ' + str(y_Pred[i]) +  ' ' + str(np.log(x_Pred[i])) + ' ' + str(np.log(y_Pred[i])) + '\\n')\n",
        "file.close()"
      ],
      "execution_count": null,
      "outputs": []
    },
    {
      "cell_type": "code",
      "metadata": {
        "id": "mbyyoRDMI7_e"
      },
      "source": [
        ""
      ],
      "execution_count": null,
      "outputs": []
    },
    {
      "cell_type": "markdown",
      "metadata": {
        "id": "kQPa0r21UDM5"
      },
      "source": [
        "## Predador presa para el caso gaussiano"
      ]
    },
    {
      "cell_type": "code",
      "metadata": {
        "id": "6E6wIOB0T7fz"
      },
      "source": [
        "S = 100\n",
        "N = 1000\n",
        "pasoC = 0.005\n",
        "pasoS = 50\n",
        "tamano, conectividad = [], []\n",
        "while(S < 1000):\n",
        "  C = 0.005\n",
        "  P = 1.0\n",
        "  while(P > 0.5):\n",
        "    # Generamos 1000 matrices para estos parámetros y sacamos su estabilidad\n",
        "    contador = 0 # El contador cuenta las matrices que salen inestables\n",
        "    for j in range(N):\n",
        "      M = GenerarPredadorPresaGauss(S, -1.0, C, 0.0, 0.25)\n",
        "      # Sacamos los autovalores de la matriz\n",
        "      autovalores, autovectores = np.linalg.eig(M)\n",
        "      # Miramos si la matriz es estable\n",
        "      EsEstable = True\n",
        "      i = 0\n",
        "      while((EsEstable == True) and (i < S)):\n",
        "        if(autovalores[i] > 0.0):\n",
        "          EsEstable = False\n",
        "          contador += 1\n",
        "        else:\n",
        "          i += 1\n",
        "    \n",
        "    # Ya podemos sacar la probabilidad de establidad para estos parámetros:\n",
        "    P = 1 - (contador*1.0)/(N*1.0)\n",
        "    print(str(P) + ' ' + str(C))\n",
        "    C += pasoC\n",
        "  \n",
        "  conectividad.extend([C])\n",
        "  tamano.extend([S])\n",
        "  print('Para un tamaño ' + str(S) + ' tenemos una conectividad ' + str(C))\n",
        "  print(P)\n",
        "  S += pasoS\n",
        "\n",
        "crearArchivo('Power_Law_PP_Gauss.dat')\n",
        "file = open('Power_Law_PP_Gauss.dat', 'w', encoding='utf8')\n",
        "for i in range(len(tamano)):\n",
        "  file.write(str(tamano[i]) + ' ' + str(conectividad[i]) + '\\n')\n",
        "file.close()"
      ],
      "execution_count": null,
      "outputs": []
    },
    {
      "cell_type": "code",
      "metadata": {
        "id": "c_Eg2nejW5sY"
      },
      "source": [
        "# Vamos a hacer el ajuste lineal para sacar el exponente de la Ley de potencias\n",
        "x_PPG, y_PPG = "
      ],
      "execution_count": null,
      "outputs": []
    },
    {
      "cell_type": "markdown",
      "metadata": {
        "id": "ebwbLUqoDP2H"
      },
      "source": [
        "## Caso mixto entre mutualismo y competición"
      ]
    },
    {
      "cell_type": "code",
      "metadata": {
        "id": "dd75WccbDUiX"
      },
      "source": [
        "#Predador-presa para el caso gausiano, iremos de S = 100 a S = 1000\n",
        "S = 300\n",
        "N = 1000\n",
        "pasoC = 0.005\n",
        "pasoS = 50\n",
        "tamano, conectividad = [], []\n",
        "while(S < 1000):\n",
        "  C = 0.05\n",
        "  P = 1.0\n",
        "  while(P > 0.5):\n",
        "    # Generamos 1000 matrices para estos parámetros y sacamos su estabilidad\n",
        "    contador = 0 # El contador cuenta las matrices que salen inestables\n",
        "    for j in range(N):\n",
        "      M = GenerarMixtureGauss(S, -1.0, C, 0.0, 0.25)\n",
        "      # Sacamos los autovalores de la matriz\n",
        "      autovalores, autovectores = np.linalg.eig(M)\n",
        "      # Miramos si la matriz es estable\n",
        "      EsEstable = True\n",
        "      i = 0\n",
        "      while((EsEstable == True) and (i < S)):\n",
        "        if(autovalores[i] > 0.0):\n",
        "          EsEstable = False\n",
        "          contador += 1\n",
        "        else:\n",
        "          i += 1\n",
        "    \n",
        "    # Ya podemos sacar la probabilidad de establidad para estos parámetros:\n",
        "    P = 1 - (contador*1.0)/(N*1.0)\n",
        "    print(str(P) + ' ' + str(C))\n",
        "    C += pasoC\n",
        "  \n",
        "  conectividad.extend([C])\n",
        "  tamano.extend([S])\n",
        "  print('Para un tamaño ' + str(S) + ' tenemos una conectividad ' + str(C))\n",
        "  print(P)\n",
        "  S += pasoS\n",
        "\n",
        "crearArchivo('Power_Law_Mix_Gauss.dat')\n",
        "file = open('Power_Law_Mix_Gauss.dat', 'w', encoding='utf8')\n",
        "for i in range(len(tamano)):\n",
        "  file.write(str(tamano[i]) + ' ' + str(conectividad[i]) + '\\n')\n",
        "file.close()"
      ],
      "execution_count": null,
      "outputs": []
    },
    {
      "cell_type": "code",
      "metadata": {
        "colab": {
          "base_uri": "https://localhost:8080/",
          "height": 265
        },
        "id": "QbTyFy5SDivQ",
        "outputId": "6c5736cb-475c-4a3b-ba27-35b0178aba4f"
      },
      "source": [
        "# Como se han obtenido los datos poco a poco, se han definido los vectores de resultados tal cual\n",
        "x_Mix = [100, 150, 200, 250, 300, 350, 400, 450, 500, 550, 600, 650, 700, 750, 800, 850, 900, 950, 1000]\n",
        "y_Mix = [0.23, 0.18, 0.155, 0.14, 0.12, 0.11, 0.105, 0.095, 0.09, 0.085, 0.08, 0.075, 0.075, 0.07, 0.07, 0.065, 0.065, 0.068, 0.062]\n",
        "\n",
        "# Representamos la gráfica\n",
        "plt.plot(x_Mix, y_Mix);"
      ],
      "execution_count": null,
      "outputs": [
        {
          "output_type": "display_data",
          "data": {
            "image/png": "[encoded data removed]",
            "text/plain": [
              "<Figure size 432x288 with 1 Axes>"
            ]
          },
          "metadata": {
            "tags": [],
            "needs_background": "light"
          }
        }
      ]
    },
    {
      "cell_type": "code",
      "metadata": {
        "colab": {
          "base_uri": "https://localhost:8080/"
        },
        "id": "sCPzj8Q6nwYL",
        "outputId": "386668ec-821c-4b2c-c0ff-495bc39c7bdd"
      },
      "source": [
        "# Hacemos el ajuste\n",
        "from pylab import *\n",
        "m_Mix,b_Mix = polyfit(np.log(x_Mix), np.log(y_Mix), 1)\n",
        "m_Mix, b_Mix"
      ],
      "execution_count": null,
      "outputs": [
        {
          "output_type": "execute_result",
          "data": {
            "text/plain": [
              "(-0.5737235342623382, 1.1657550938808883)"
            ]
          },
          "metadata": {
            "tags": []
          },
          "execution_count": 12
        }
      ]
    },
    {
      "cell_type": "code",
      "metadata": {
        "colab": {
          "base_uri": "https://localhost:8080/",
          "height": 300
        },
        "id": "Dct24x0Mngjb",
        "outputId": "60a7014c-31ba-4364-e01b-a10b9b547d53"
      },
      "source": [
        "# Representamos la ley de potencias logaritmica\n",
        "plt.plot(np.log(x_Mix), np.log(y_Mix), 'yo', np.log(x_Mix), m_Mix*np.log(x_Mix)+b_Mix, '--k') "
      ],
      "execution_count": null,
      "outputs": [
        {
          "output_type": "execute_result",
          "data": {
            "text/plain": [
              "[<matplotlib.lines.Line2D at 0x7fd8875493d0>,\n",
              " <matplotlib.lines.Line2D at 0x7fd887549550>]"
            ]
          },
          "metadata": {
            "tags": []
          },
          "execution_count": 15
        },
        {
          "output_type": "display_data",
          "data": {
            "image/png": "[encoded data removed]",
            "text/plain": [
              "<Figure size 432x288 with 1 Axes>"
            ]
          },
          "metadata": {
            "tags": [],
            "needs_background": "light"
          }
        }
      ]
    },
    {
      "cell_type": "code",
      "metadata": {
        "id": "7EjLI-s3qwXQ"
      },
      "source": [
        "# Lo pasamos todo a un fichero para tenerlo todo más facilito\n",
        "# Vamos a pasar todos estos datos a un fichero para que sea más fácil el manejo y demás\n",
        "crearArchivo('Power_Law_Mixture.dat')\n",
        "file = open('Power_Law_Mixture.dat', 'w', encoding='utf8')\n",
        "file.write('#(eje x)S(tamaño del sistema) (eje y)C(conectividad maxima que permite el sistema)  log(S)  log(C)' + '\\n')\n",
        "for i in range(len(x_Mix)):\n",
        "  file.write(str(x_Mix[i]) + ' ' + str(y_Mix[i]) +  ' ' + str(np.log(x_Mix[i])) + ' ' + str(np.log(y_Mix[i])) + '\\n')\n",
        "file.close()"
      ],
      "execution_count": null,
      "outputs": []
    },
    {
      "cell_type": "markdown",
      "metadata": {
        "id": "0tWwRxA2C2hC"
      },
      "source": [
        "## Caso para el mutualismo"
      ]
    },
    {
      "cell_type": "markdown",
      "metadata": {
        "id": "vri-b1MADuYB"
      },
      "source": [
        "En este caso, no solo los elementos cruzados tienen el mismo signo, si no que además son todos positivos"
      ]
    },
    {
      "cell_type": "code",
      "metadata": {
        "id": "8hMjZCpDC4tu"
      },
      "source": [
        "# Antes, definimos a función que genera una red de mutualismo combinada con competición.\n",
        "def GenerarMutuaGauss(S, d, C, media, sigma):\n",
        "  # En este caso, la distribucion de probabilidad es la uniforme\n",
        "  M = np.random.normal(loc = media, scale = sigma, size = (S, S))\n",
        "  for i in range(S):\n",
        "    for j in range(S):\n",
        "      num = np.random.rand()\n",
        "      if(i != j):\n",
        "        if(num > C):\n",
        "         M[i, j] = 0.0\n",
        "         M[j, i] = 0.0\n",
        "        else:\n",
        "          if(M[i, j] < 0):\n",
        "            M[i, j] = (-1.0)*M[i, j]\n",
        "          if(M[j, i] < 0):\n",
        "            M[j, i] = -1.0*M[j, i]\n",
        "      else:\n",
        "        M[i, j] = d\n",
        "  \n",
        "  return M"
      ],
      "execution_count": null,
      "outputs": []
    },
    {
      "cell_type": "code",
      "metadata": {
        "colab": {
          "base_uri": "https://localhost:8080/"
        },
        "id": "vRWtHudNDGmr",
        "outputId": "a471a641-3d30-4dc7-edca-c0175b3a00f7"
      },
      "source": [
        "# Ahora, vamos a sacar la Ley de potencias para el caso de mutualismo\n",
        "#Predador-presa para el caso gausiano, iremos de S = 100 a S = 1000\n",
        "S = 900\n",
        "N = 1000\n",
        "pasoC = 0.005\n",
        "pasoS = 50\n",
        "tamano, conectividad = [], []\n",
        "while(S <= 1000):\n",
        "  C = 0.05\n",
        "  P = 1.0\n",
        "  while(P > 0.5):\n",
        "    # Generamos 1000 matrices para estos parámetros y sacamos su estabilidad\n",
        "    contador = 0 # El contador cuenta las matrices que salen inestables\n",
        "    for j in range(N):\n",
        "      M = GenerarMutuaGauss(S, -1.0, C, 0.0, 0.25)\n",
        "      # Sacamos los autovalores de la matriz\n",
        "      autovalores, autovectores = np.linalg.eig(M)\n",
        "      # Miramos si la matriz es estable\n",
        "      EsEstable = True\n",
        "      i = 0\n",
        "      while((EsEstable == True) and (i < S)):\n",
        "        if(autovalores[i] > 0.0):\n",
        "          EsEstable = False\n",
        "          contador += 1\n",
        "        else:\n",
        "          i += 1\n",
        "    \n",
        "    # Ya podemos sacar la probabilidad de establidad para estos parámetros:\n",
        "    P = 1 - (contador*1.0)/(N*1.0)\n",
        "    print(str(P) + ' ' + str(C))\n",
        "    C += pasoC\n",
        "  \n",
        "  conectividad.extend([C])\n",
        "  tamano.extend([S])\n",
        "  print('Para un tamaño ' + str(S) + ' tenemos una conectividad ' + str(C))\n",
        "  print(P)\n",
        "  S += pasoS\n",
        "\n",
        "crearArchivo('Power_Law_Mutua_Gauss.dat')\n",
        "file = open('Power_Law_Mutua_Gauss.dat', 'w', encoding='utf8')\n",
        "for i in range(len(tamano)):\n",
        "  file.write(str(tamano[i]) + ' ' + str(conectividad[i]) + '\\n')\n",
        "file.close()"
      ],
      "execution_count": null,
      "outputs": [
        {
          "output_type": "stream",
          "text": [
            "0.992 0.045\n",
            "0.96 0.049999999999999996\n",
            "0.9 0.05499999999999999\n",
            "0.639 0.05999999999999999\n",
            "0.017000000000000015 0.06499999999999999\n",
            "Para un tamaño 900 tenemos una conectividad 0.06999999999999999\n",
            "0.017000000000000015\n",
            "0.991 0.045\n",
            "0.957 0.049999999999999996\n",
            "0.85 0.05499999999999999\n",
            "0.398 0.05999999999999999\n",
            "Para un tamaño 950 tenemos una conectividad 0.06499999999999999\n",
            "0.398\n",
            "0.991 0.045\n",
            "0.94 0.049999999999999996\n",
            "0.8069999999999999 0.05499999999999999\n",
            "0.15200000000000002 0.05999999999999999\n",
            "Para un tamaño 1000 tenemos una conectividad 0.06499999999999999\n",
            "0.15200000000000002\n"
          ],
          "name": "stdout"
        }
      ]
    },
    {
      "cell_type": "code",
      "metadata": {
        "id": "26ogv1KiFuV1",
        "colab": {
          "base_uri": "https://localhost:8080/",
          "height": 283
        },
        "outputId": "697fbb2a-46b8-4d64-e0ec-dc2d74f88bae"
      },
      "source": [
        "# Ahora, vamos a realizar el ajuste lineal, para eso definimos los vectores con los datos que nos han dado\n",
        "x_Mutua = [100, 150, 200, 250, 300, 350, 400, 450, 500, 550, 600, 650, 700, 750, 800, 850, 900, 950, 1000]\n",
        "y_Mutua = [0.195, 0.155, 0.135, 0.12, 0.107, 0.1, 0.093, 0.088, 0.082, 0.078, 0.075, 0.07, 0.07, 0.068, 0.065, 0.062, 0.06, 0.058, 0.054]\n",
        "\n",
        "# Representamos la gráfica\n",
        "plt.plot(x_Mutua, y_Mutua, 'bo')"
      ],
      "execution_count": null,
      "outputs": [
        {
          "output_type": "execute_result",
          "data": {
            "text/plain": [
              "[<matplotlib.lines.Line2D at 0x7f1e3f9a2490>]"
            ]
          },
          "metadata": {
            "tags": []
          },
          "execution_count": 12
        },
        {
          "output_type": "display_data",
          "data": {
            "image/png": "[encoded data removed]",
            "text/plain": [
              "<Figure size 432x288 with 1 Axes>"
            ]
          },
          "metadata": {
            "tags": [],
            "needs_background": "light"
          }
        }
      ]
    },
    {
      "cell_type": "code",
      "metadata": {
        "colab": {
          "base_uri": "https://localhost:8080/"
        },
        "id": "GJUUdoHQ-7ut",
        "outputId": "262871ed-3a28-4eb3-d074-fb83e00bcf7f"
      },
      "source": [
        "# Hacemos el ajuste\n",
        "from pylab import *\n",
        "m_Mutua,b_Mutua = polyfit(np.log(x_Mutua), np.log(y_Mutua), 1)\n",
        "m_Mutua, b_Mutua"
      ],
      "execution_count": null,
      "outputs": [
        {
          "output_type": "execute_result",
          "data": {
            "text/plain": [
              "(-0.5372239592825614, 0.8403794019319843)"
            ]
          },
          "metadata": {
            "tags": []
          },
          "execution_count": 9
        }
      ]
    },
    {
      "cell_type": "code",
      "metadata": {
        "colab": {
          "base_uri": "https://localhost:8080/",
          "height": 300
        },
        "id": "hHSKf5mt-_y1",
        "outputId": "e0f8a746-6927-4e5b-ef14-6127460391e1"
      },
      "source": [
        "# Representamos la ley de potencias logaritmica\n",
        "plt.plot(np.log(x_Mutua), np.log(y_Mutua), 'yo', np.log(x_Mutua), m_Mutua*np.log(x_Mutua)+b_Mutua, '--k') "
      ],
      "execution_count": null,
      "outputs": [
        {
          "output_type": "execute_result",
          "data": {
            "text/plain": [
              "[<matplotlib.lines.Line2D at 0x7f1e3fa28050>,\n",
              " <matplotlib.lines.Line2D at 0x7f1e3fa282d0>]"
            ]
          },
          "metadata": {
            "tags": []
          },
          "execution_count": 10
        },
        {
          "output_type": "display_data",
          "data": {
            "image/png": "[encoded data removed]",
            "text/plain": [
              "<Figure size 432x288 with 1 Axes>"
            ]
          },
          "metadata": {
            "tags": [],
            "needs_background": "light"
          }
        }
      ]
    },
    {
      "cell_type": "code",
      "metadata": {
        "id": "bONEbhsj_EbP"
      },
      "source": [
        "# Lo pasamos todo a un fichero para tenerlo todo más facilito\n",
        "# Vamos a pasar todos estos datos a un fichero para que sea más fácil el manejo y demás\n",
        "crearArchivo('Power_Law_Mutua.dat')\n",
        "file = open('Power_Law_Mutua.dat', 'w', encoding='utf8')\n",
        "file.write('#(eje x)S(tamaño del sistema) (eje y)C(conectividad maxima que permite el sistema)  log(S)  log(C)' + '\\n')\n",
        "for i in range(len(x_Mutua)):\n",
        "  file.write(str(x_Mutua[i]) + ' ' + str(y_Mutua[i]) +  ' ' + str(np.log(x_Mutua[i])) + ' ' + str(np.log(y_Mutua[i])) + '\\n')\n",
        "file.close()"
      ],
      "execution_count": null,
      "outputs": []
    },
    {
      "cell_type": "markdown",
      "metadata": {
        "id": "IwbdeNXhDHHa"
      },
      "source": [
        "## Caso de competición"
      ]
    },
    {
      "cell_type": "markdown",
      "metadata": {
        "id": "4HbZQwdJD5Xw"
      },
      "source": [
        "En este caso no solo los elementos cruzados tienen el mismo signo, sino que ademas son todos negativos"
      ]
    },
    {
      "cell_type": "code",
      "metadata": {
        "id": "oTSOZsNLDJp4"
      },
      "source": [
        "# Empezamos sacando la función con la cual generar las redes competitivas\n",
        "# Antes, definimos a función que genera una red de mutualismo combinada con competición.\n",
        "def GenerarCompeticionGauss(S, d, C, media, sigma):\n",
        "  # En este caso, la distribucion de probabilidad es la uniforme\n",
        "  M = np.random.normal(loc = media, scale = sigma, size = (S, S))\n",
        "  for i in range(S):\n",
        "    for j in range(S):\n",
        "      num = np.random.rand()\n",
        "      if(i != j):\n",
        "        if(num > C):\n",
        "         M[i, j] = 0.0\n",
        "         M[j, i] = 0.0\n",
        "        else:\n",
        "          if(M[i, j] > 0):\n",
        "            M[i, j] = (-1.0)*M[i, j]\n",
        "          if(M[j, i] > 0):\n",
        "            M[j, i] = -1.0*M[j, i]\n",
        "      else:\n",
        "        M[i, j] = d\n",
        "  \n",
        "  return M"
      ],
      "execution_count": null,
      "outputs": []
    },
    {
      "cell_type": "code",
      "metadata": {
        "colab": {
          "base_uri": "https://localhost:8080/",
          "height": 393
        },
        "id": "gDa6YoIvGSs_",
        "outputId": "3a1e0440-3385-408e-9dee-9124a690e73c"
      },
      "source": [
        "# Ahora, podemos sacar las leyes de potencias para redes competitivas\n",
        "# Ahora, vamos a sacar la Ley de potencias para el caso de mutualismo\n",
        "#Predador-presa para el caso gausiano, iremos de S = 100 a S = 1000\n",
        "S = 700\n",
        "N = 1000\n",
        "pasoC = 0.005\n",
        "pasoS = 50\n",
        "tamano, conectividad = [], []\n",
        "while(S <= 1000):\n",
        "  C = 0.05\n",
        "  P = 1.0\n",
        "  while(P > 0.5):\n",
        "    # Generamos 1000 matrices para estos parámetros y sacamos su estabilidad\n",
        "    contador = 0 # El contador cuenta las matrices que salen inestables\n",
        "    for j in range(N):\n",
        "      M = GenerarCompeticionGauss(S, -1.0, C, 0.0, 0.25)\n",
        "      # Sacamos los autovalores de la matriz\n",
        "      autovalores, autovectores = np.linalg.eig(M)\n",
        "      # Miramos si la matriz es estable\n",
        "      EsEstable = True\n",
        "      i = 0\n",
        "      while((EsEstable == True) and (i < S)):\n",
        "        if(autovalores[i] > 0.0):\n",
        "          EsEstable = False\n",
        "          contador += 1\n",
        "        else:\n",
        "          i += 1\n",
        "    \n",
        "    # Ya podemos sacar la probabilidad de establidad para estos parámetros:\n",
        "    P = 1 - (contador*1.0)/(N*1.0)\n",
        "    print(str(P) + ' ' + str(C))\n",
        "    C += pasoC\n",
        "  \n",
        "  conectividad.extend([C])\n",
        "  tamano.extend([S])\n",
        "  print('Para un tamaño ' + str(S) + ' tenemos una conectividad ' + str(C))\n",
        "  print(P)\n",
        "  S += pasoS\n",
        "\n",
        "crearArchivo('Power_Law_Competicion_Gauss.dat')\n",
        "file = open('Power_Law_Competicion_Gauss.dat', 'w', encoding='utf8')\n",
        "for i in range(len(tamano)):\n",
        "  file.write(str(tamano[i]) + ' ' + str(conectividad[i]) + '\\n')\n",
        "file.close()"
      ],
      "execution_count": null,
      "outputs": [
        {
          "output_type": "error",
          "ename": "KeyboardInterrupt",
          "evalue": "ignored",
          "traceback": [
            "\u001b[0;31m---------------------------------------------------------------------------\u001b[0m",
            "\u001b[0;31mKeyboardInterrupt\u001b[0m                         Traceback (most recent call last)",
            "\u001b[0;32m<ipython-input-19-1f7df817ade5>\u001b[0m in \u001b[0;36m<module>\u001b[0;34m()\u001b[0m\n\u001b[1;32m     16\u001b[0m       \u001b[0mM\u001b[0m \u001b[0;34m=\u001b[0m \u001b[0mGenerarCompeticionGauss\u001b[0m\u001b[0;34m(\u001b[0m\u001b[0mS\u001b[0m\u001b[0;34m,\u001b[0m \u001b[0;34m-\u001b[0m\u001b[0;36m1.0\u001b[0m\u001b[0;34m,\u001b[0m \u001b[0mC\u001b[0m\u001b[0;34m,\u001b[0m \u001b[0;36m0.0\u001b[0m\u001b[0;34m,\u001b[0m \u001b[0;36m0.25\u001b[0m\u001b[0;34m)\u001b[0m\u001b[0;34m\u001b[0m\u001b[0;34m\u001b[0m\u001b[0m\n\u001b[1;32m     17\u001b[0m       \u001b[0;31m# Sacamos los autovalores de la matriz\u001b[0m\u001b[0;34m\u001b[0m\u001b[0;34m\u001b[0m\u001b[0;34m\u001b[0m\u001b[0m\n\u001b[0;32m---> 18\u001b[0;31m       \u001b[0mautovalores\u001b[0m\u001b[0;34m,\u001b[0m \u001b[0mautovectores\u001b[0m \u001b[0;34m=\u001b[0m \u001b[0mnp\u001b[0m\u001b[0;34m.\u001b[0m\u001b[0mlinalg\u001b[0m\u001b[0;34m.\u001b[0m\u001b[0meig\u001b[0m\u001b[0;34m(\u001b[0m\u001b[0mM\u001b[0m\u001b[0;34m)\u001b[0m\u001b[0;34m\u001b[0m\u001b[0;34m\u001b[0m\u001b[0m\n\u001b[0m\u001b[1;32m     19\u001b[0m       \u001b[0;31m# Miramos si la matriz es estable\u001b[0m\u001b[0;34m\u001b[0m\u001b[0;34m\u001b[0m\u001b[0;34m\u001b[0m\u001b[0m\n\u001b[1;32m     20\u001b[0m       \u001b[0mEsEstable\u001b[0m \u001b[0;34m=\u001b[0m \u001b[0;32mTrue\u001b[0m\u001b[0;34m\u001b[0m\u001b[0;34m\u001b[0m\u001b[0m\n",
            "\u001b[0;32m<__array_function__ internals>\u001b[0m in \u001b[0;36meig\u001b[0;34m(*args, **kwargs)\u001b[0m\n",
            "\u001b[0;32m/usr/local/lib/python3.7/dist-packages/numpy/linalg/linalg.py\u001b[0m in \u001b[0;36meig\u001b[0;34m(a)\u001b[0m\n\u001b[1;32m   1322\u001b[0m         _raise_linalgerror_eigenvalues_nonconvergence)\n\u001b[1;32m   1323\u001b[0m     \u001b[0msignature\u001b[0m \u001b[0;34m=\u001b[0m \u001b[0;34m'D->DD'\u001b[0m \u001b[0;32mif\u001b[0m \u001b[0misComplexType\u001b[0m\u001b[0;34m(\u001b[0m\u001b[0mt\u001b[0m\u001b[0;34m)\u001b[0m \u001b[0;32melse\u001b[0m \u001b[0;34m'd->DD'\u001b[0m\u001b[0;34m\u001b[0m\u001b[0;34m\u001b[0m\u001b[0m\n\u001b[0;32m-> 1324\u001b[0;31m     \u001b[0mw\u001b[0m\u001b[0;34m,\u001b[0m \u001b[0mvt\u001b[0m \u001b[0;34m=\u001b[0m \u001b[0m_umath_linalg\u001b[0m\u001b[0;34m.\u001b[0m\u001b[0meig\u001b[0m\u001b[0;34m(\u001b[0m\u001b[0ma\u001b[0m\u001b[0;34m,\u001b[0m \u001b[0msignature\u001b[0m\u001b[0;34m=\u001b[0m\u001b[0msignature\u001b[0m\u001b[0;34m,\u001b[0m \u001b[0mextobj\u001b[0m\u001b[0;34m=\u001b[0m\u001b[0mextobj\u001b[0m\u001b[0;34m)\u001b[0m\u001b[0;34m\u001b[0m\u001b[0;34m\u001b[0m\u001b[0m\n\u001b[0m\u001b[1;32m   1325\u001b[0m \u001b[0;34m\u001b[0m\u001b[0m\n\u001b[1;32m   1326\u001b[0m     \u001b[0;32mif\u001b[0m \u001b[0;32mnot\u001b[0m \u001b[0misComplexType\u001b[0m\u001b[0;34m(\u001b[0m\u001b[0mt\u001b[0m\u001b[0;34m)\u001b[0m \u001b[0;32mand\u001b[0m \u001b[0mall\u001b[0m\u001b[0;34m(\u001b[0m\u001b[0mw\u001b[0m\u001b[0;34m.\u001b[0m\u001b[0mimag\u001b[0m \u001b[0;34m==\u001b[0m \u001b[0;36m0.0\u001b[0m\u001b[0;34m)\u001b[0m\u001b[0;34m:\u001b[0m\u001b[0;34m\u001b[0m\u001b[0;34m\u001b[0m\u001b[0m\n",
            "\u001b[0;31mKeyboardInterrupt\u001b[0m: "
          ]
        }
      ]
    },
    {
      "cell_type": "code",
      "metadata": {
        "id": "MQ4YS6xrHJxm",
        "colab": {
          "base_uri": "https://localhost:8080/",
          "height": 283
        },
        "outputId": "176a4db3-4867-4fc7-b2ea-bcae8a46fc1d"
      },
      "source": [
        "# Ahora, vamos a obtener el ajuste, definimos los vectores de los resultados\n",
        "x_Comp = [100, 150, 200, 250, 300, 350, 400, 450, 500, 550, 600, 650, 700, 750, 800, 850, 900, 950, 1000]\n",
        "y_Comp = [0.195, 0.155, 0.135, 0.12, 0.107, 0.1, 0.093, 0.088, 0.082, 0.078, 0.075, 0.07, 0.07, 0.068, 0.065, 0.062, 0.06, 0.058, 0.054]\n",
        "\n",
        "# Representamos la power law\n",
        "plt.plot(x_Comp, y_Comp, 'go')"
      ],
      "execution_count": null,
      "outputs": [
        {
          "output_type": "execute_result",
          "data": {
            "text/plain": [
              "[<matplotlib.lines.Line2D at 0x7f9a18c14490>]"
            ]
          },
          "metadata": {
            "tags": []
          },
          "execution_count": 6
        },
        {
          "output_type": "display_data",
          "data": {
            "image/png": "[encoded data removed]",
            "text/plain": [
              "<Figure size 432x288 with 1 Axes>"
            ]
          },
          "metadata": {
            "tags": [],
            "needs_background": "light"
          }
        }
      ]
    },
    {
      "cell_type": "code",
      "metadata": {
        "colab": {
          "base_uri": "https://localhost:8080/"
        },
        "id": "nX2rs85JfdYj",
        "outputId": "d3f09d50-f4b2-4374-c744-e60518ce550a"
      },
      "source": [
        "# Sacamos el ajuste\n",
        "from pylab import *\n",
        "m_Comp, b_Comp = polyfit(np.log(x_Comp), np.log(y_Comp), 1)\n",
        "\n",
        "m_Comp, b_Comp"
      ],
      "execution_count": null,
      "outputs": [
        {
          "output_type": "execute_result",
          "data": {
            "text/plain": [
              "(-0.5372239592825614, 0.8403794019319843)"
            ]
          },
          "metadata": {
            "tags": []
          },
          "execution_count": 9
        }
      ]
    },
    {
      "cell_type": "code",
      "metadata": {
        "colab": {
          "base_uri": "https://localhost:8080/",
          "height": 300
        },
        "id": "a5gi1gG_gN87",
        "outputId": "24ef6aa0-f5a4-42a2-ddaf-f365510f3ac1"
      },
      "source": [
        "plt.plot(np.log(x_Comp), np.log(y_Comp), 'yo', np.log(x_Comp), m_Comp*np.log(x_Comp) + b_Comp, '--k')"
      ],
      "execution_count": null,
      "outputs": [
        {
          "output_type": "execute_result",
          "data": {
            "text/plain": [
              "[<matplotlib.lines.Line2D at 0x7f9a14674250>,\n",
              " <matplotlib.lines.Line2D at 0x7f9a14648b50>]"
            ]
          },
          "metadata": {
            "tags": []
          },
          "execution_count": 14
        },
        {
          "output_type": "display_data",
          "data": {
            "image/png": "[encoded data removed]",
            "text/plain": [
              "<Figure size 432x288 with 1 Axes>"
            ]
          },
          "metadata": {
            "tags": [],
            "needs_background": "light"
          }
        }
      ]
    },
    {
      "cell_type": "code",
      "metadata": {
        "id": "vFL4bhOlg7IW"
      },
      "source": [
        "# Lo pasamos todo a un fichero para tenerlo todo más facilito\n",
        "# Vamos a pasar todos estos datos a un fichero para que sea más fácil el manejo y demás\n",
        "crearArchivo('Power_Law_Comp.dat')\n",
        "file = open('Power_Law_Comp.dat', 'w', encoding='utf8')\n",
        "file.write('#(eje x)S(tamaño del sistema) (eje y)C(conectividad maxima que permite el sistema)  log(S)  log(C)' + '\\n')\n",
        "for i in range(len(x_Comp)):\n",
        "  file.write(str(x_Comp[i]) + ' ' + str(y_Comp[i]) +  ' ' + str(np.log(x_Comp[i])) + ' ' + str(np.log(y_Comp[i])) + '\\n')\n",
        "file.close()"
      ],
      "execution_count": null,
      "outputs": []
    }
  ]
}